{
 "cells": [
  {
   "cell_type": "markdown",
   "metadata": {},
   "source": [
    "## SID: 10742495 Amaka Patience NWOKOLO CourseWork\n",
    "## Big Data and Data Visualization "
   ]
  },
  {
   "cell_type": "code",
   "execution_count": 1,
   "metadata": {},
   "outputs": [
    {
     "name": "stdout",
     "output_type": "stream",
     "text": [
      "<pyspark.sql.session.SparkSession object at 0x00000270371BB610>\n"
     ]
    }
   ],
   "source": [
    "# Setting up spark and importing  the relevant libraries\n",
    "import findspark\n",
    "findspark.init()\n",
    "\n",
    "import pyspark # only run after findspark.init()\n",
    "from pyspark import SparkConf, SparkContext\n",
    "from pyspark.sql import SparkSession\n",
    "from pyspark.sql import *\n",
    "from pyspark.sql.functions import *\n",
    "conf = SparkConf().setMaster(\"local\").setAppName(\"PySpark_feature_eng\")\n",
    "spark = SparkSession.builder.getOrCreate()\n",
    "print(spark)\n",
    "\n",
    "# import libraries for data preprocessing and visualization\n",
    "import pandas as pd\n",
    "import numpy as ny\n",
    "import matplotlib.pyplot as plt\n",
    "import  seaborn as sns\n",
    "%matplotlib inline"
   ]
  },
  {
   "cell_type": "code",
   "execution_count": 2,
   "metadata": {},
   "outputs": [],
   "source": [
    "# Set sqlContext from the Spark context\n",
    "from pyspark.sql import SQLContext\n",
    "sqlContext = SQLContext(spark)"
   ]
  },
  {
   "cell_type": "code",
   "execution_count": 3,
   "metadata": {},
   "outputs": [
    {
     "name": "stdout",
     "output_type": "stream",
     "text": [
      "3.1.2\n"
     ]
    }
   ],
   "source": [
    "#checcking out the version of spark\n",
    "print(spark.version)"
   ]
  },
  {
   "cell_type": "code",
   "execution_count": 4,
   "metadata": {},
   "outputs": [],
   "source": [
    "# importing the csv file for the  analysis\n",
    "HR_train = spark.read.csv('HR_train.csv', inferSchema = 'true', header = 'true')\n",
    "HR_test = spark.read.csv('HR_test.csv', inferSchema = 'true', header = 'true')"
   ]
  },
  {
   "cell_type": "markdown",
   "metadata": {},
   "source": [
    "Display the datatypes of each of the attribute in the dataset"
   ]
  },
  {
   "cell_type": "code",
   "execution_count": 5,
   "metadata": {},
   "outputs": [
    {
     "name": "stdout",
     "output_type": "stream",
     "text": [
      "root\n",
      " |-- enrollee_id: integer (nullable = true)\n",
      " |-- city: string (nullable = true)\n",
      " |-- city_development_index: double (nullable = true)\n",
      " |-- gender: string (nullable = true)\n",
      " |-- relevent_experience: string (nullable = true)\n",
      " |-- enrolled_university: string (nullable = true)\n",
      " |-- education_level: string (nullable = true)\n",
      " |-- major_discipline: string (nullable = true)\n",
      " |-- experience: string (nullable = true)\n",
      " |-- company_size: string (nullable = true)\n",
      " |-- company_type: string (nullable = true)\n",
      " |-- last_new_job: string (nullable = true)\n",
      " |-- training_hours: integer (nullable = true)\n",
      " |-- target: double (nullable = true)\n",
      "\n"
     ]
    }
   ],
   "source": [
    "HR_train.cache()\n",
    "HR_train.printSchema()"
   ]
  },
  {
   "cell_type": "markdown",
   "metadata": {},
   "source": [
    "Display the first top 3 rows in my dataset"
   ]
  },
  {
   "cell_type": "code",
   "execution_count": 6,
   "metadata": {},
   "outputs": [
    {
     "name": "stdout",
     "output_type": "stream",
     "text": [
      "+-----------+--------+----------------------+------+--------------------+-------------------+---------------+----------------+----------+------------+------------+------------+--------------+------+\n",
      "|enrollee_id|    city|city_development_index|gender| relevent_experience|enrolled_university|education_level|major_discipline|experience|company_size|company_type|last_new_job|training_hours|target|\n",
      "+-----------+--------+----------------------+------+--------------------+-------------------+---------------+----------------+----------+------------+------------+------------+--------------+------+\n",
      "|       8949|city_103|                  0.92|  Male|Has relevent expe...|      no_enrollment|       Graduate|            STEM|       >20|        null|        null|           1|            36|   1.0|\n",
      "|      29725| city_40|    0.7759999999999999|  Male|No relevent exper...|      no_enrollment|       Graduate|            STEM|        15|       50-99|     Pvt Ltd|          >4|            47|   0.0|\n",
      "|      11561| city_21|                 0.624|  null|No relevent exper...|   Full time course|       Graduate|            STEM|         5|        null|        null|       never|            83|   0.0|\n",
      "+-----------+--------+----------------------+------+--------------------+-------------------+---------------+----------------+----------+------------+------------+------------+--------------+------+\n",
      "only showing top 3 rows\n",
      "\n"
     ]
    }
   ],
   "source": [
    "HR_train.show(3)"
   ]
  },
  {
   "cell_type": "markdown",
   "metadata": {},
   "source": [
    "Display the first top 5 in the dataset in a list format."
   ]
  },
  {
   "cell_type": "code",
   "execution_count": 7,
   "metadata": {},
   "outputs": [
    {
     "data": {
      "text/plain": [
       "[Row(enrollee_id=8949, city='city_103', city_development_index=0.92, gender='Male', relevent_experience='Has relevent experience', enrolled_university='no_enrollment', education_level='Graduate', major_discipline='STEM', experience='>20', company_size=None, company_type=None, last_new_job='1', training_hours=36, target=1.0),\n",
       " Row(enrollee_id=29725, city='city_40', city_development_index=0.7759999999999999, gender='Male', relevent_experience='No relevent experience', enrolled_university='no_enrollment', education_level='Graduate', major_discipline='STEM', experience='15', company_size='50-99', company_type='Pvt Ltd', last_new_job='>4', training_hours=47, target=0.0),\n",
       " Row(enrollee_id=11561, city='city_21', city_development_index=0.624, gender=None, relevent_experience='No relevent experience', enrolled_university='Full time course', education_level='Graduate', major_discipline='STEM', experience='5', company_size=None, company_type=None, last_new_job='never', training_hours=83, target=0.0)]"
      ]
     },
     "execution_count": 7,
     "metadata": {},
     "output_type": "execute_result"
    }
   ],
   "source": [
    "HR_train.head(3)"
   ]
  },
  {
   "cell_type": "markdown",
   "metadata": {},
   "source": [
    "To View the dataset in a more clear form using pandas"
   ]
  },
  {
   "cell_type": "code",
   "execution_count": 8,
   "metadata": {},
   "outputs": [
    {
     "data": {
      "text/html": [
       "<div>\n",
       "<style scoped>\n",
       "    .dataframe tbody tr th:only-of-type {\n",
       "        vertical-align: middle;\n",
       "    }\n",
       "\n",
       "    .dataframe tbody tr th {\n",
       "        vertical-align: top;\n",
       "    }\n",
       "\n",
       "    .dataframe thead th {\n",
       "        text-align: right;\n",
       "    }\n",
       "</style>\n",
       "<table border=\"1\" class=\"dataframe\">\n",
       "  <thead>\n",
       "    <tr style=\"text-align: right;\">\n",
       "      <th></th>\n",
       "      <th>0</th>\n",
       "      <th>1</th>\n",
       "      <th>2</th>\n",
       "      <th>3</th>\n",
       "      <th>4</th>\n",
       "    </tr>\n",
       "  </thead>\n",
       "  <tbody>\n",
       "    <tr>\n",
       "      <th>enrollee_id</th>\n",
       "      <td>8949</td>\n",
       "      <td>29725</td>\n",
       "      <td>11561</td>\n",
       "      <td>33241</td>\n",
       "      <td>666</td>\n",
       "    </tr>\n",
       "    <tr>\n",
       "      <th>city</th>\n",
       "      <td>city_103</td>\n",
       "      <td>city_40</td>\n",
       "      <td>city_21</td>\n",
       "      <td>city_115</td>\n",
       "      <td>city_162</td>\n",
       "    </tr>\n",
       "    <tr>\n",
       "      <th>city_development_index</th>\n",
       "      <td>0.92</td>\n",
       "      <td>0.776</td>\n",
       "      <td>0.624</td>\n",
       "      <td>0.789</td>\n",
       "      <td>0.767</td>\n",
       "    </tr>\n",
       "    <tr>\n",
       "      <th>gender</th>\n",
       "      <td>Male</td>\n",
       "      <td>Male</td>\n",
       "      <td>None</td>\n",
       "      <td>None</td>\n",
       "      <td>Male</td>\n",
       "    </tr>\n",
       "    <tr>\n",
       "      <th>relevent_experience</th>\n",
       "      <td>Has relevent experience</td>\n",
       "      <td>No relevent experience</td>\n",
       "      <td>No relevent experience</td>\n",
       "      <td>No relevent experience</td>\n",
       "      <td>Has relevent experience</td>\n",
       "    </tr>\n",
       "    <tr>\n",
       "      <th>enrolled_university</th>\n",
       "      <td>no_enrollment</td>\n",
       "      <td>no_enrollment</td>\n",
       "      <td>Full time course</td>\n",
       "      <td>None</td>\n",
       "      <td>no_enrollment</td>\n",
       "    </tr>\n",
       "    <tr>\n",
       "      <th>education_level</th>\n",
       "      <td>Graduate</td>\n",
       "      <td>Graduate</td>\n",
       "      <td>Graduate</td>\n",
       "      <td>Graduate</td>\n",
       "      <td>Masters</td>\n",
       "    </tr>\n",
       "    <tr>\n",
       "      <th>major_discipline</th>\n",
       "      <td>STEM</td>\n",
       "      <td>STEM</td>\n",
       "      <td>STEM</td>\n",
       "      <td>Business Degree</td>\n",
       "      <td>STEM</td>\n",
       "    </tr>\n",
       "    <tr>\n",
       "      <th>experience</th>\n",
       "      <td>&gt;20</td>\n",
       "      <td>15</td>\n",
       "      <td>5</td>\n",
       "      <td>&lt;1</td>\n",
       "      <td>&gt;20</td>\n",
       "    </tr>\n",
       "    <tr>\n",
       "      <th>company_size</th>\n",
       "      <td>None</td>\n",
       "      <td>50-99</td>\n",
       "      <td>None</td>\n",
       "      <td>None</td>\n",
       "      <td>50-99</td>\n",
       "    </tr>\n",
       "    <tr>\n",
       "      <th>company_type</th>\n",
       "      <td>None</td>\n",
       "      <td>Pvt Ltd</td>\n",
       "      <td>None</td>\n",
       "      <td>Pvt Ltd</td>\n",
       "      <td>Funded Startup</td>\n",
       "    </tr>\n",
       "    <tr>\n",
       "      <th>last_new_job</th>\n",
       "      <td>1</td>\n",
       "      <td>&gt;4</td>\n",
       "      <td>never</td>\n",
       "      <td>never</td>\n",
       "      <td>4</td>\n",
       "    </tr>\n",
       "    <tr>\n",
       "      <th>training_hours</th>\n",
       "      <td>36</td>\n",
       "      <td>47</td>\n",
       "      <td>83</td>\n",
       "      <td>52</td>\n",
       "      <td>8</td>\n",
       "    </tr>\n",
       "    <tr>\n",
       "      <th>target</th>\n",
       "      <td>1</td>\n",
       "      <td>0</td>\n",
       "      <td>0</td>\n",
       "      <td>1</td>\n",
       "      <td>0</td>\n",
       "    </tr>\n",
       "  </tbody>\n",
       "</table>\n",
       "</div>"
      ],
      "text/plain": [
       "                                              0                       1  \\\n",
       "enrollee_id                                8949                   29725   \n",
       "city                                   city_103                 city_40   \n",
       "city_development_index                     0.92                   0.776   \n",
       "gender                                     Male                    Male   \n",
       "relevent_experience     Has relevent experience  No relevent experience   \n",
       "enrolled_university               no_enrollment           no_enrollment   \n",
       "education_level                        Graduate                Graduate   \n",
       "major_discipline                           STEM                    STEM   \n",
       "experience                                  >20                      15   \n",
       "company_size                               None                   50-99   \n",
       "company_type                               None                 Pvt Ltd   \n",
       "last_new_job                                  1                      >4   \n",
       "training_hours                               36                      47   \n",
       "target                                        1                       0   \n",
       "\n",
       "                                             2                       3  \\\n",
       "enrollee_id                              11561                   33241   \n",
       "city                                   city_21                city_115   \n",
       "city_development_index                   0.624                   0.789   \n",
       "gender                                    None                    None   \n",
       "relevent_experience     No relevent experience  No relevent experience   \n",
       "enrolled_university           Full time course                    None   \n",
       "education_level                       Graduate                Graduate   \n",
       "major_discipline                          STEM         Business Degree   \n",
       "experience                                   5                      <1   \n",
       "company_size                              None                    None   \n",
       "company_type                              None                 Pvt Ltd   \n",
       "last_new_job                             never                   never   \n",
       "training_hours                              83                      52   \n",
       "target                                       0                       1   \n",
       "\n",
       "                                              4  \n",
       "enrollee_id                                 666  \n",
       "city                                   city_162  \n",
       "city_development_index                    0.767  \n",
       "gender                                     Male  \n",
       "relevent_experience     Has relevent experience  \n",
       "enrolled_university               no_enrollment  \n",
       "education_level                         Masters  \n",
       "major_discipline                           STEM  \n",
       "experience                                  >20  \n",
       "company_size                              50-99  \n",
       "company_type                     Funded Startup  \n",
       "last_new_job                                  4  \n",
       "training_hours                                8  \n",
       "target                                        0  "
      ]
     },
     "execution_count": 8,
     "metadata": {},
     "output_type": "execute_result"
    }
   ],
   "source": [
    "pd.DataFrame(HR_train.take(5), columns=HR_train.columns).transpose()"
   ]
  },
  {
   "cell_type": "markdown",
   "metadata": {},
   "source": [
    "Count and return the value in the dataset"
   ]
  },
  {
   "cell_type": "code",
   "execution_count": 9,
   "metadata": {},
   "outputs": [
    {
     "data": {
      "text/plain": [
       "19158"
      ]
     },
     "execution_count": 9,
     "metadata": {},
     "output_type": "execute_result"
    }
   ],
   "source": [
    "HR_train.count()"
   ]
  },
  {
   "cell_type": "markdown",
   "metadata": {},
   "source": [
    "Display the statistical summary of the attribute of the dataset"
   ]
  },
  {
   "cell_type": "code",
   "execution_count": 10,
   "metadata": {},
   "outputs": [
    {
     "name": "stdout",
     "output_type": "stream",
     "text": [
      "+-------+------------------+\n",
      "|summary|       enrollee_id|\n",
      "+-------+------------------+\n",
      "|  count|             19158|\n",
      "|   mean|16875.358179350664|\n",
      "| stddev| 9616.292592160924|\n",
      "|    min|                 1|\n",
      "|    max|             33380|\n",
      "+-------+------------------+\n",
      "\n",
      "+-------+-------+\n",
      "|summary|   city|\n",
      "+-------+-------+\n",
      "|  count|  19158|\n",
      "|   mean|   null|\n",
      "| stddev|   null|\n",
      "|    min| city_1|\n",
      "|    max|city_99|\n",
      "+-------+-------+\n",
      "\n",
      "+-------+----------------------+\n",
      "|summary|city_development_index|\n",
      "+-------+----------------------+\n",
      "|  count|                 19158|\n",
      "|   mean|    0.8288480008351684|\n",
      "| stddev|   0.12336175686054515|\n",
      "|    min|   0.44799999999999995|\n",
      "|    max|    0.9490000000000001|\n",
      "+-------+----------------------+\n",
      "\n",
      "+-------+------+\n",
      "|summary|gender|\n",
      "+-------+------+\n",
      "|  count| 14650|\n",
      "|   mean|  null|\n",
      "| stddev|  null|\n",
      "|    min|Female|\n",
      "|    max| Other|\n",
      "+-------+------+\n",
      "\n",
      "+-------+--------------------+\n",
      "|summary| relevent_experience|\n",
      "+-------+--------------------+\n",
      "|  count|               19158|\n",
      "|   mean|                null|\n",
      "| stddev|                null|\n",
      "|    min|Has relevent expe...|\n",
      "|    max|No relevent exper...|\n",
      "+-------+--------------------+\n",
      "\n",
      "+-------+-------------------+\n",
      "|summary|enrolled_university|\n",
      "+-------+-------------------+\n",
      "|  count|              18772|\n",
      "|   mean|               null|\n",
      "| stddev|               null|\n",
      "|    min|   Full time course|\n",
      "|    max|      no_enrollment|\n",
      "+-------+-------------------+\n",
      "\n",
      "+-------+---------------+\n",
      "|summary|education_level|\n",
      "+-------+---------------+\n",
      "|  count|          18698|\n",
      "|   mean|           null|\n",
      "| stddev|           null|\n",
      "|    min|       Graduate|\n",
      "|    max| Primary School|\n",
      "+-------+---------------+\n",
      "\n",
      "+-------+----------------+\n",
      "|summary|major_discipline|\n",
      "+-------+----------------+\n",
      "|  count|           16345|\n",
      "|   mean|            null|\n",
      "| stddev|            null|\n",
      "|    min|            Arts|\n",
      "|    max|            STEM|\n",
      "+-------+----------------+\n",
      "\n",
      "+-------+-----------------+\n",
      "|summary|       experience|\n",
      "+-------+-----------------+\n",
      "|  count|            19093|\n",
      "|   mean|8.101799149492967|\n",
      "| stddev|4.934599764055633|\n",
      "|    min|                1|\n",
      "|    max|              >20|\n",
      "+-------+-----------------+\n",
      "\n",
      "+-------+------------+\n",
      "|summary|company_size|\n",
      "+-------+------------+\n",
      "|  count|       13220|\n",
      "|   mean|        null|\n",
      "| stddev|        null|\n",
      "|    min|       10/49|\n",
      "|    max|         <10|\n",
      "+-------+------------+\n",
      "\n",
      "+-------+-------------------+\n",
      "|summary|       company_type|\n",
      "+-------+-------------------+\n",
      "|  count|              13018|\n",
      "|   mean|               null|\n",
      "| stddev|               null|\n",
      "|    min|Early Stage Startup|\n",
      "|    max|            Pvt Ltd|\n",
      "+-------+-------------------+\n",
      "\n",
      "+-------+------------------+\n",
      "|summary|      last_new_job|\n",
      "+-------+------------------+\n",
      "|  count|             18735|\n",
      "|   mean| 1.618409913030093|\n",
      "| stddev|0.9321202932740219|\n",
      "|    min|                 1|\n",
      "|    max|             never|\n",
      "+-------+------------------+\n",
      "\n",
      "+-------+-----------------+\n",
      "|summary|   training_hours|\n",
      "+-------+-----------------+\n",
      "|  count|            19158|\n",
      "|   mean|65.36689633573442|\n",
      "| stddev|60.05846192467765|\n",
      "|    min|                1|\n",
      "|    max|              336|\n",
      "+-------+-----------------+\n",
      "\n",
      "+-------+-------------------+\n",
      "|summary|             target|\n",
      "+-------+-------------------+\n",
      "|  count|              19158|\n",
      "|   mean|0.24934753105752167|\n",
      "| stddev|0.43264663445625307|\n",
      "|    min|                0.0|\n",
      "|    max|                1.0|\n",
      "+-------+-------------------+\n",
      "\n"
     ]
    }
   ],
   "source": [
    "for col in HR_train.columns:\n",
    "    HR_train.describe([col]).show()"
   ]
  },
  {
   "cell_type": "markdown",
   "metadata": {},
   "source": [
    "To continue the analysis I drop the attribute which are not contributing much to the construction of the machine learning model"
   ]
  },
  {
   "cell_type": "code",
   "execution_count": 11,
   "metadata": {},
   "outputs": [],
   "source": [
    "HR_train = HR_train.drop(\"company_size\",'company_type','city', 'city_development_index', 'last_new_job', 'training_hours')"
   ]
  },
  {
   "cell_type": "code",
   "execution_count": 12,
   "metadata": {},
   "outputs": [
    {
     "name": "stdout",
     "output_type": "stream",
     "text": [
      "root\n",
      " |-- enrollee_id: integer (nullable = true)\n",
      " |-- gender: string (nullable = true)\n",
      " |-- relevent_experience: string (nullable = true)\n",
      " |-- enrolled_university: string (nullable = true)\n",
      " |-- education_level: string (nullable = true)\n",
      " |-- major_discipline: string (nullable = true)\n",
      " |-- experience: string (nullable = true)\n",
      " |-- target: double (nullable = true)\n",
      "\n"
     ]
    }
   ],
   "source": [
    "HR_train.printSchema()"
   ]
  },
  {
   "cell_type": "code",
   "execution_count": 13,
   "metadata": {},
   "outputs": [
    {
     "name": "stdout",
     "output_type": "stream",
     "text": [
      "+-----------+------+--------------------+-------------------+---------------+----------------+----------+------+\n",
      "|enrollee_id|gender| relevent_experience|enrolled_university|education_level|major_discipline|experience|target|\n",
      "+-----------+------+--------------------+-------------------+---------------+----------------+----------+------+\n",
      "|       8949|  Male|Has relevent expe...|      no_enrollment|       Graduate|            STEM|       >20|   1.0|\n",
      "|      29725|  Male|No relevent exper...|      no_enrollment|       Graduate|            STEM|        15|   0.0|\n",
      "|      11561|  null|No relevent exper...|   Full time course|       Graduate|            STEM|         5|   0.0|\n",
      "|      33241|  null|No relevent exper...|               null|       Graduate| Business Degree|        <1|   1.0|\n",
      "|        666|  Male|Has relevent expe...|      no_enrollment|        Masters|            STEM|       >20|   0.0|\n",
      "|      21651|  null|Has relevent expe...|   Part time course|       Graduate|            STEM|        11|   1.0|\n",
      "|      28806|  Male|Has relevent expe...|      no_enrollment|    High School|            null|         5|   0.0|\n",
      "|        402|  Male|Has relevent expe...|      no_enrollment|       Graduate|            STEM|        13|   1.0|\n",
      "|      27107|  Male|Has relevent expe...|      no_enrollment|       Graduate|            STEM|         7|   1.0|\n",
      "|        699|  null|Has relevent expe...|      no_enrollment|       Graduate|            STEM|        17|   0.0|\n",
      "|      29452|  null|No relevent exper...|   Full time course|    High School|            null|         2|   1.0|\n",
      "|      23853|  Male|Has relevent expe...|      no_enrollment|       Graduate|            STEM|         5|   0.0|\n",
      "|      25619|  Male|Has relevent expe...|      no_enrollment|       Graduate|            STEM|       >20|   0.0|\n",
      "|       5826|  Male|No relevent exper...|               null|           null|            null|         2|   0.0|\n",
      "|       8722|  null|No relevent exper...|   Full time course|    High School|            null|         5|   0.0|\n",
      "|       6588|  Male|Has relevent expe...|      no_enrollment|       Graduate|            STEM|        16|   0.0|\n",
      "|       4167|  null|Has relevent expe...|      no_enrollment|       Graduate|            STEM|         1|   0.0|\n",
      "|       5764|  null|Has relevent expe...|      no_enrollment|       Graduate|            STEM|         2|   0.0|\n",
      "|       2156|  null|Has relevent expe...|      no_enrollment|       Graduate|            STEM|         7|   1.0|\n",
      "|      11399|Female|Has relevent expe...|      no_enrollment|       Graduate|            Arts|         4|   1.0|\n",
      "+-----------+------+--------------------+-------------------+---------------+----------------+----------+------+\n",
      "only showing top 20 rows\n",
      "\n"
     ]
    }
   ],
   "source": [
    "HR_train.show()"
   ]
  },
  {
   "cell_type": "code",
   "execution_count": 14,
   "metadata": {},
   "outputs": [
    {
     "name": "stdout",
     "output_type": "stream",
     "text": [
      "enrollee_id \t with null values:  0\n",
      "gender \t with null values:  4508\n",
      "relevent_experience \t with null values:  0\n",
      "enrolled_university \t with null values:  386\n",
      "education_level \t with null values:  460\n",
      "major_discipline \t with null values:  2813\n",
      "experience \t with null values:  65\n",
      "target \t with null values:  0\n"
     ]
    }
   ],
   "source": [
    "#Count the value of 'with null values' in every column\n",
    "for col in HR_train.columns:\n",
    "     print(col, \"\\t\", \"with null values: \", HR_train.filter(HR_train[col].isNull()).count())"
   ]
  },
  {
   "cell_type": "markdown",
   "metadata": {},
   "source": []
  },
  {
   "cell_type": "code",
   "execution_count": 15,
   "metadata": {},
   "outputs": [],
   "source": [
    "# HR_train = HR_train.na.fill({\"gender\": \"female\"}) \\\n",
    "#     .show()"
   ]
  },
  {
   "cell_type": "code",
   "execution_count": null,
   "metadata": {},
   "outputs": [],
   "source": []
  },
  {
   "cell_type": "code",
   "execution_count": 15,
   "metadata": {},
   "outputs": [],
   "source": [
    "def mode_of_pyspark_columns(HR_train, cat_col_list, verbose=False):\n",
    "    col_with_mode=[]\n",
    "    for col in cat_col_list:\n",
    "        #Filter null\n",
    "        HR_train = HR_train.filter(HR_train[col].isNull()==False)\n",
    "        #Find unique_values_with_count\n",
    "        unique_classes = HR_train.select(col).distinct().rdd.map(lambda x: x[0]).collect()\n",
    "        unique_values_with_count=[]\n",
    "        for uc in unique_classes:\n",
    "             unique_values_with_count.append([uc, HR_train.filter(HR_train[col]==uc).count()])\n",
    "        #sort unique values w.r.t their count values\n",
    "        sorted_unique_values_with_count= sorted(unique_values_with_count, key = lambda x: x[1], reverse =True)\n",
    "        \n",
    "        if (verbose==True): print(col, sorted_unique_values_with_count, \" and mode is \", sorted_unique_values_with_count[0][0])\n",
    "        col_with_mode.append([col, sorted_unique_values_with_count[0][0]])\n",
    "    return col_with_mode"
   ]
  },
  {
   "cell_type": "code",
   "execution_count": 16,
   "metadata": {},
   "outputs": [
    {
     "name": "stdout",
     "output_type": "stream",
     "text": [
      "gender [['Male', 13221], ['Female', 1238], ['Other', 191]]  and mode is  Male\n",
      "enrolled_university [['no_enrollment', 10982], ['Full time course', 2576], ['Part time course', 879]]  and mode is  no_enrollment\n",
      "education_level [['Graduate', 8929], ['Masters', 3294], ['High School', 1468], ['Phd', 327], ['Primary School', 207]]  and mode is  Graduate\n",
      "major_discipline [['STEM', 11067], ['Humanities', 549], ['Other', 288], ['Business Degree', 254], ['Arts', 201], ['No Major', 180]]  and mode is  STEM\n"
     ]
    },
    {
     "data": {
      "text/plain": [
       "[['gender', 'Male'],\n",
       " ['enrolled_university', 'no_enrollment'],\n",
       " ['education_level', 'Graduate'],\n",
       " ['major_discipline', 'STEM']]"
      ]
     },
     "execution_count": 16,
     "metadata": {},
     "output_type": "execute_result"
    }
   ],
   "source": [
    "#Validate it\n",
    "cat_col_list=['gender','enrolled_university', 'education_level', 'major_discipline']\n",
    "mode_of_pyspark_columns(HR_train, cat_col_list, verbose=True)"
   ]
  },
  {
   "cell_type": "code",
   "execution_count": 17,
   "metadata": {},
   "outputs": [
    {
     "name": "stdout",
     "output_type": "stream",
     "text": [
      "+-----------+------+--------------------+-------------------+---------------+----------------+----------+------+\n",
      "|enrollee_id|gender| relevent_experience|enrolled_university|education_level|major_discipline|experience|target|\n",
      "+-----------+------+--------------------+-------------------+---------------+----------------+----------+------+\n",
      "|       8949|  Male|Has relevent expe...|      no_enrollment|       Graduate|            STEM|       >20|   1.0|\n",
      "|      29725|  Male|No relevent exper...|      no_enrollment|       Graduate|            STEM|        15|   0.0|\n",
      "|      11561|  null|No relevent exper...|   Full time course|       Graduate|            STEM|         5|   0.0|\n",
      "|      33241|  null|No relevent exper...|               null|       Graduate| Business Degree|        <1|   1.0|\n",
      "|        666|  Male|Has relevent expe...|      no_enrollment|        Masters|            STEM|       >20|   0.0|\n",
      "|      21651|  null|Has relevent expe...|   Part time course|       Graduate|            STEM|        11|   1.0|\n",
      "|      28806|  Male|Has relevent expe...|      no_enrollment|    High School|            null|         5|   0.0|\n",
      "|        402|  Male|Has relevent expe...|      no_enrollment|       Graduate|            STEM|        13|   1.0|\n",
      "|      27107|  Male|Has relevent expe...|      no_enrollment|       Graduate|            STEM|         7|   1.0|\n",
      "|        699|  null|Has relevent expe...|      no_enrollment|       Graduate|            STEM|        17|   0.0|\n",
      "|      29452|  null|No relevent exper...|   Full time course|    High School|            null|         2|   1.0|\n",
      "|      23853|  Male|Has relevent expe...|      no_enrollment|       Graduate|            STEM|         5|   0.0|\n",
      "|      25619|  Male|Has relevent expe...|      no_enrollment|       Graduate|            STEM|       >20|   0.0|\n",
      "|       5826|  Male|No relevent exper...|               null|           null|            null|         2|   0.0|\n",
      "|       8722|  null|No relevent exper...|   Full time course|    High School|            null|         5|   0.0|\n",
      "|       6588|  Male|Has relevent expe...|      no_enrollment|       Graduate|            STEM|        16|   0.0|\n",
      "|       4167|  null|Has relevent expe...|      no_enrollment|       Graduate|            STEM|         1|   0.0|\n",
      "|       5764|  null|Has relevent expe...|      no_enrollment|       Graduate|            STEM|         2|   0.0|\n",
      "|       2156|  null|Has relevent expe...|      no_enrollment|       Graduate|            STEM|         7|   1.0|\n",
      "|      11399|Female|Has relevent expe...|      no_enrollment|       Graduate|            Arts|         4|   1.0|\n",
      "+-----------+------+--------------------+-------------------+---------------+----------------+----------+------+\n",
      "only showing top 20 rows\n",
      "\n"
     ]
    }
   ],
   "source": [
    "HR_train.show()"
   ]
  },
  {
   "cell_type": "code",
   "execution_count": 18,
   "metadata": {},
   "outputs": [],
   "source": [
    "\n",
    "#Find the avg of all numeric columns\n",
    "from pyspark.sql.functions import avg\n",
    "\n",
    "def mean_of_pyspark_columns(df, numeric_cols, verbose=False):\n",
    "    col_with_mean=[]\n",
    "    for col in numeric_cols:\n",
    "        mean_value = df.select(avg(df[col]))\n",
    "        avg_col = mean_value.columns[0]\n",
    "        res = mean_value.rdd.map(lambda row : row[avg_col]).collect()\n",
    "        \n",
    "        if (verbose==True): print(mean_value.columns[0], \"\\t\", res[0])\n",
    "        col_with_mean.append([col, res[0]])    \n",
    "    return col_with_mean"
   ]
  },
  {
   "cell_type": "code",
   "execution_count": 19,
   "metadata": {},
   "outputs": [
    {
     "name": "stdout",
     "output_type": "stream",
     "text": [
      "avg(experience) \t 8.101799149492967\n"
     ]
    },
    {
     "data": {
      "text/plain": [
       "[['experience', 8.101799149492967]]"
      ]
     },
     "execution_count": 19,
     "metadata": {},
     "output_type": "execute_result"
    }
   ],
   "source": [
    "\n",
    "#Validate it\n",
    "numeric_cols=['experience']    \n",
    "mean_of_pyspark_columns(HR_train, numeric_cols, verbose=True)"
   ]
  },
  {
   "cell_type": "code",
   "execution_count": null,
   "metadata": {},
   "outputs": [],
   "source": [
    "# df.na.fill(value=0,subset=[\"population\"]).show()"
   ]
  },
  {
   "cell_type": "code",
   "execution_count": null,
   "metadata": {},
   "outputs": [],
   "source": []
  },
  {
   "cell_type": "code",
   "execution_count": null,
   "metadata": {},
   "outputs": [],
   "source": []
  },
  {
   "cell_type": "code",
   "execution_count": 20,
   "metadata": {},
   "outputs": [],
   "source": [
    "#Fill missing values for mode\n",
    "from pyspark.sql.functions import when, lit\n",
    "\n",
    "def fill_missing_with_mode(HR_train, cat_col_list):\n",
    "    col_with_mode =mode_of_pyspark_columns(HR_train, cat_col_list)\n",
    "    \n",
    "    for col, mode in col_with_mode:\n",
    "        HR_train = HR_train.withColumn(col, when(HR_train[col].isNull()==True, \n",
    "        lit(mode)).otherwise(HR_train[col]))\n",
    "        \n",
    "    return HR_train"
   ]
  },
  {
   "cell_type": "code",
   "execution_count": 22,
   "metadata": {},
   "outputs": [],
   "source": [
    "#Now this is the time to literally consume the fill_missing_with_mode\n",
    "cat_col_list=['gender','enrolled_university', 'education_level', 'major_discipline']\n",
    "HR_train= fill_missing_with_mode(HR_train, cat_col_list)"
   ]
  },
  {
   "cell_type": "code",
   "execution_count": null,
   "metadata": {},
   "outputs": [],
   "source": []
  },
  {
   "cell_type": "code",
   "execution_count": 23,
   "metadata": {},
   "outputs": [],
   "source": [
    "#Fill missing values for mean\n",
    "from pyspark.sql.functions import when, lit\n",
    "\n",
    "def fill_missing_with_mean(HR_train, numeric_cols):\n",
    "    col_with_mean = mean_of_pyspark_columns(HR_train, numeric_cols) \n",
    "    \n",
    "    for col, mean in col_with_mean:\n",
    "        HR_train = HR_train.withColumn(col, when(HR_train[col].isNull()==True, \n",
    "        lit(mean)).otherwise(HR_train[col]))\n",
    "        \n",
    "    return HR_train"
   ]
  },
  {
   "cell_type": "code",
   "execution_count": 24,
   "metadata": {},
   "outputs": [],
   "source": [
    "#Now this is the time to literally consume the fill_missing_with_mean\n",
    "\n",
    "numeric_cols=['experience']     \n",
    "HR_train = fill_missing_with_mean(HR_train, numeric_cols)"
   ]
  },
  {
   "cell_type": "code",
   "execution_count": 28,
   "metadata": {},
   "outputs": [],
   "source": [
    "\n"
   ]
  },
  {
   "cell_type": "code",
   "execution_count": 25,
   "metadata": {},
   "outputs": [
    {
     "name": "stdout",
     "output_type": "stream",
     "text": [
      "+-------+------------------+\n",
      "|summary|       enrollee_id|\n",
      "+-------+------------------+\n",
      "|  count|             19158|\n",
      "|   mean|16875.358179350664|\n",
      "| stddev| 9616.292592160924|\n",
      "|    min|                 1|\n",
      "|    max|             33380|\n",
      "+-------+------------------+\n",
      "\n",
      "+-------+------+\n",
      "|summary|gender|\n",
      "+-------+------+\n",
      "|  count| 19158|\n",
      "|   mean|  null|\n",
      "| stddev|  null|\n",
      "|    min|Female|\n",
      "|    max| Other|\n",
      "+-------+------+\n",
      "\n",
      "+-------+--------------------+\n",
      "|summary| relevent_experience|\n",
      "+-------+--------------------+\n",
      "|  count|               19158|\n",
      "|   mean|                null|\n",
      "| stddev|                null|\n",
      "|    min|Has relevent expe...|\n",
      "|    max|No relevent exper...|\n",
      "+-------+--------------------+\n",
      "\n",
      "+-------+-------------------+\n",
      "|summary|enrolled_university|\n",
      "+-------+-------------------+\n",
      "|  count|              19158|\n",
      "|   mean|               null|\n",
      "| stddev|               null|\n",
      "|    min|   Full time course|\n",
      "|    max|      no_enrollment|\n",
      "+-------+-------------------+\n",
      "\n",
      "+-------+---------------+\n",
      "|summary|education_level|\n",
      "+-------+---------------+\n",
      "|  count|          19158|\n",
      "|   mean|           null|\n",
      "| stddev|           null|\n",
      "|    min|       Graduate|\n",
      "|    max| Primary School|\n",
      "+-------+---------------+\n",
      "\n",
      "+-------+----------------+\n",
      "|summary|major_discipline|\n",
      "+-------+----------------+\n",
      "|  count|           19158|\n",
      "|   mean|            null|\n",
      "| stddev|            null|\n",
      "|    min|            Arts|\n",
      "|    max|            STEM|\n",
      "+-------+----------------+\n",
      "\n",
      "+-------+-----------------+\n",
      "|summary|       experience|\n",
      "+-------+-----------------+\n",
      "|  count|            19158|\n",
      "|   mean|8.101799149492956|\n",
      "| stddev|4.924140148353282|\n",
      "|    min|                1|\n",
      "|    max|              >20|\n",
      "+-------+-----------------+\n",
      "\n",
      "+-------+-------------------+\n",
      "|summary|             target|\n",
      "+-------+-------------------+\n",
      "|  count|              19158|\n",
      "|   mean|0.24934753105752167|\n",
      "| stddev|0.43264663445625307|\n",
      "|    min|                0.0|\n",
      "|    max|                1.0|\n",
      "+-------+-------------------+\n",
      "\n"
     ]
    }
   ],
   "source": [
    "#again validate that our awesome functions worked or not on true dataframe that is 'df'\n",
    "for col in HR_train.columns:\n",
    "     HR_train.describe([col]).show()"
   ]
  },
  {
   "cell_type": "code",
   "execution_count": 26,
   "metadata": {},
   "outputs": [
    {
     "name": "stdout",
     "output_type": "stream",
     "text": [
      "+-----------+------+--------------------+-------------------+---------------+----------------+----------+------+\n",
      "|enrollee_id|gender| relevent_experience|enrolled_university|education_level|major_discipline|experience|target|\n",
      "+-----------+------+--------------------+-------------------+---------------+----------------+----------+------+\n",
      "|       8949|  Male|Has relevent expe...|      no_enrollment|       Graduate|            STEM|       >20|   1.0|\n",
      "|      29725|  Male|No relevent exper...|      no_enrollment|       Graduate|            STEM|        15|   0.0|\n",
      "|      11561|  Male|No relevent exper...|   Full time course|       Graduate|            STEM|         5|   0.0|\n",
      "|      33241|  Male|No relevent exper...|      no_enrollment|       Graduate| Business Degree|        <1|   1.0|\n",
      "|        666|  Male|Has relevent expe...|      no_enrollment|        Masters|            STEM|       >20|   0.0|\n",
      "|      21651|  Male|Has relevent expe...|   Part time course|       Graduate|            STEM|        11|   1.0|\n",
      "|      28806|  Male|Has relevent expe...|      no_enrollment|    High School|            STEM|         5|   0.0|\n",
      "|        402|  Male|Has relevent expe...|      no_enrollment|       Graduate|            STEM|        13|   1.0|\n",
      "|      27107|  Male|Has relevent expe...|      no_enrollment|       Graduate|            STEM|         7|   1.0|\n",
      "|        699|  Male|Has relevent expe...|      no_enrollment|       Graduate|            STEM|        17|   0.0|\n",
      "|      29452|  Male|No relevent exper...|   Full time course|    High School|            STEM|         2|   1.0|\n",
      "|      23853|  Male|Has relevent expe...|      no_enrollment|       Graduate|            STEM|         5|   0.0|\n",
      "|      25619|  Male|Has relevent expe...|      no_enrollment|       Graduate|            STEM|       >20|   0.0|\n",
      "|       5826|  Male|No relevent exper...|      no_enrollment|       Graduate|            STEM|         2|   0.0|\n",
      "|       8722|  Male|No relevent exper...|   Full time course|    High School|            STEM|         5|   0.0|\n",
      "|       6588|  Male|Has relevent expe...|      no_enrollment|       Graduate|            STEM|        16|   0.0|\n",
      "|       4167|  Male|Has relevent expe...|      no_enrollment|       Graduate|            STEM|         1|   0.0|\n",
      "|       5764|  Male|Has relevent expe...|      no_enrollment|       Graduate|            STEM|         2|   0.0|\n",
      "|       2156|  Male|Has relevent expe...|      no_enrollment|       Graduate|            STEM|         7|   1.0|\n",
      "|      11399|Female|Has relevent expe...|      no_enrollment|       Graduate|            Arts|         4|   1.0|\n",
      "+-----------+------+--------------------+-------------------+---------------+----------------+----------+------+\n",
      "only showing top 20 rows\n",
      "\n"
     ]
    }
   ],
   "source": [
    "HR_train.show()"
   ]
  },
  {
   "cell_type": "code",
   "execution_count": 40,
   "metadata": {},
   "outputs": [],
   "source": [
    "HR_train = HR_train.withColumn('experience', regexp_replace('experience', '<', '').cast('float'))"
   ]
  },
  {
   "cell_type": "code",
   "execution_count": 41,
   "metadata": {},
   "outputs": [],
   "source": [
    "HR_train = HR_train.withColumn('experience', regexp_replace('experience', '>', '').cast('float'))"
   ]
  },
  {
   "cell_type": "code",
   "execution_count": 42,
   "metadata": {},
   "outputs": [
    {
     "name": "stdout",
     "output_type": "stream",
     "text": [
      "root\n",
      " |-- enrollee_id: integer (nullable = true)\n",
      " |-- gender: string (nullable = true)\n",
      " |-- relevent_experience: string (nullable = true)\n",
      " |-- enrolled_university: string (nullable = true)\n",
      " |-- education_level: string (nullable = true)\n",
      " |-- major_discipline: string (nullable = true)\n",
      " |-- experience: float (nullable = true)\n",
      " |-- target: double (nullable = true)\n",
      "\n",
      "+-----------+------+--------------------+-------------------+---------------+----------------+----------+------+\n",
      "|enrollee_id|gender| relevent_experience|enrolled_university|education_level|major_discipline|experience|target|\n",
      "+-----------+------+--------------------+-------------------+---------------+----------------+----------+------+\n",
      "|       8949|  Male|Has relevent expe...|      no_enrollment|       Graduate|            STEM|      20.0|   1.0|\n",
      "|      29725|  Male|No relevent exper...|      no_enrollment|       Graduate|            STEM|      15.0|   0.0|\n",
      "|      11561|  Male|No relevent exper...|   Full time course|       Graduate|            STEM|       5.0|   0.0|\n",
      "|      33241|  Male|No relevent exper...|      no_enrollment|       Graduate| Business Degree|       1.0|   1.0|\n",
      "|        666|  Male|Has relevent expe...|      no_enrollment|        Masters|            STEM|      20.0|   0.0|\n",
      "|      21651|  Male|Has relevent expe...|   Part time course|       Graduate|            STEM|      11.0|   1.0|\n",
      "|      28806|  Male|Has relevent expe...|      no_enrollment|    High School|            STEM|       5.0|   0.0|\n",
      "|        402|  Male|Has relevent expe...|      no_enrollment|       Graduate|            STEM|      13.0|   1.0|\n",
      "|      27107|  Male|Has relevent expe...|      no_enrollment|       Graduate|            STEM|       7.0|   1.0|\n",
      "|        699|  Male|Has relevent expe...|      no_enrollment|       Graduate|            STEM|      17.0|   0.0|\n",
      "|      29452|  Male|No relevent exper...|   Full time course|    High School|            STEM|       2.0|   1.0|\n",
      "|      23853|  Male|Has relevent expe...|      no_enrollment|       Graduate|            STEM|       5.0|   0.0|\n",
      "|      25619|  Male|Has relevent expe...|      no_enrollment|       Graduate|            STEM|      20.0|   0.0|\n",
      "|       5826|  Male|No relevent exper...|      no_enrollment|       Graduate|            STEM|       2.0|   0.0|\n",
      "|       8722|  Male|No relevent exper...|   Full time course|    High School|            STEM|       5.0|   0.0|\n",
      "|       6588|  Male|Has relevent expe...|      no_enrollment|       Graduate|            STEM|      16.0|   0.0|\n",
      "|       4167|  Male|Has relevent expe...|      no_enrollment|       Graduate|            STEM|       1.0|   0.0|\n",
      "|       5764|  Male|Has relevent expe...|      no_enrollment|       Graduate|            STEM|       2.0|   0.0|\n",
      "|       2156|  Male|Has relevent expe...|      no_enrollment|       Graduate|            STEM|       7.0|   1.0|\n",
      "|      11399|Female|Has relevent expe...|      no_enrollment|       Graduate|            Arts|       4.0|   1.0|\n",
      "+-----------+------+--------------------+-------------------+---------------+----------------+----------+------+\n",
      "only showing top 20 rows\n",
      "\n"
     ]
    }
   ],
   "source": [
    "HR_train.printSchema()\n",
    "HR_train.show()"
   ]
  },
  {
   "cell_type": "code",
   "execution_count": 45,
   "metadata": {},
   "outputs": [],
   "source": [
    "HR_train = HR_train.select('enrollee_id','gender','relevent_experience','enrolled_university','education_level','major_discipline','experience','target')\n",
    "cols = HR_train.columns"
   ]
  },
  {
   "cell_type": "code",
   "execution_count": null,
   "metadata": {},
   "outputs": [],
   "source": []
  },
  {
   "cell_type": "markdown",
   "metadata": {},
   "source": [
    "Building the Machine Learning Model"
   ]
  },
  {
   "cell_type": "code",
   "execution_count": 27,
   "metadata": {},
   "outputs": [],
   "source": [
    "from pyspark.ml.feature import OneHotEncoder"
   ]
  },
  {
   "cell_type": "code",
   "execution_count": 43,
   "metadata": {},
   "outputs": [],
   "source": [
    "from pyspark.ml.feature import OneHotEncoder, StringIndexer, VectorAssembler\n",
    "categoricalColumns = ['gender', 'relevent_experience', 'enrolled_university', 'education_level', 'major_discipline']\n",
    "stages = []\n",
    "for categoricalCol in categoricalColumns:\n",
    "    stringIndexer = StringIndexer(inputCol = categoricalCol, outputCol = categoricalCol + 'Index')\n",
    "    encoder = OneHotEncoder(inputCols=[stringIndexer.getOutputCol()], outputCols=[categoricalCol + \"classVec\"])\n",
    "    stages += [stringIndexer, encoder]\n",
    "label_stringIdx = StringIndexer(inputCol = 'target', outputCol = 'label')\n",
    "stages += [label_stringIdx]\n",
    "numericCols = ['experience']\n",
    "assemblerInputs = [c + \"classVec\" for c in categoricalColumns] + numericCols\n",
    "assembler = VectorAssembler(inputCols=assemblerInputs, outputCol=\"features\")\n",
    "stages += [assembler]"
   ]
  },
  {
   "cell_type": "code",
   "execution_count": 46,
   "metadata": {},
   "outputs": [
    {
     "name": "stdout",
     "output_type": "stream",
     "text": [
      "root\n",
      " |-- label: double (nullable = false)\n",
      " |-- features: vector (nullable = true)\n",
      " |-- enrollee_id: integer (nullable = true)\n",
      " |-- gender: string (nullable = true)\n",
      " |-- relevent_experience: string (nullable = true)\n",
      " |-- enrolled_university: string (nullable = true)\n",
      " |-- education_level: string (nullable = true)\n",
      " |-- major_discipline: string (nullable = true)\n",
      " |-- experience: float (nullable = true)\n",
      " |-- target: double (nullable = true)\n",
      "\n"
     ]
    }
   ],
   "source": [
    "from pyspark.ml import Pipeline\n",
    "pipeline = Pipeline(stages = stages)\n",
    "pipelineModel = pipeline.fit(HR_train)\n",
    "HR_train = pipelineModel.transform(HR_train)\n",
    "selectedCols = ['label', 'features'] + cols\n",
    "HR_train = HR_train.select(selectedCols)\n",
    "HR_train.printSchema()"
   ]
  },
  {
   "cell_type": "code",
   "execution_count": 48,
   "metadata": {},
   "outputs": [
    {
     "data": {
      "text/html": [
       "<div>\n",
       "<style scoped>\n",
       "    .dataframe tbody tr th:only-of-type {\n",
       "        vertical-align: middle;\n",
       "    }\n",
       "\n",
       "    .dataframe tbody tr th {\n",
       "        vertical-align: top;\n",
       "    }\n",
       "\n",
       "    .dataframe thead th {\n",
       "        text-align: right;\n",
       "    }\n",
       "</style>\n",
       "<table border=\"1\" class=\"dataframe\">\n",
       "  <thead>\n",
       "    <tr style=\"text-align: right;\">\n",
       "      <th></th>\n",
       "      <th>0</th>\n",
       "      <th>1</th>\n",
       "      <th>2</th>\n",
       "      <th>3</th>\n",
       "      <th>4</th>\n",
       "      <th>5</th>\n",
       "      <th>6</th>\n",
       "      <th>7</th>\n",
       "      <th>8</th>\n",
       "      <th>9</th>\n",
       "    </tr>\n",
       "  </thead>\n",
       "  <tbody>\n",
       "    <tr>\n",
       "      <th>label</th>\n",
       "      <td>1</td>\n",
       "      <td>0</td>\n",
       "      <td>0</td>\n",
       "      <td>1</td>\n",
       "      <td>0</td>\n",
       "      <td>1</td>\n",
       "      <td>0</td>\n",
       "      <td>1</td>\n",
       "      <td>1</td>\n",
       "      <td>0</td>\n",
       "    </tr>\n",
       "    <tr>\n",
       "      <th>features</th>\n",
       "      <td>(1.0, 0.0, 1.0, 1.0, 0.0, 1.0, 0.0, 0.0, 0.0, ...</td>\n",
       "      <td>(1.0, 0.0, 0.0, 1.0, 0.0, 1.0, 0.0, 0.0, 0.0, ...</td>\n",
       "      <td>(1.0, 0.0, 0.0, 0.0, 1.0, 1.0, 0.0, 0.0, 0.0, ...</td>\n",
       "      <td>(1.0, 0.0, 0.0, 1.0, 0.0, 1.0, 0.0, 0.0, 0.0, ...</td>\n",
       "      <td>(1.0, 0.0, 1.0, 1.0, 0.0, 0.0, 1.0, 0.0, 0.0, ...</td>\n",
       "      <td>(1.0, 0.0, 1.0, 0.0, 0.0, 1.0, 0.0, 0.0, 0.0, ...</td>\n",
       "      <td>(1.0, 0.0, 1.0, 1.0, 0.0, 0.0, 0.0, 1.0, 0.0, ...</td>\n",
       "      <td>(1.0, 0.0, 1.0, 1.0, 0.0, 1.0, 0.0, 0.0, 0.0, ...</td>\n",
       "      <td>(1.0, 0.0, 1.0, 1.0, 0.0, 1.0, 0.0, 0.0, 0.0, ...</td>\n",
       "      <td>(1.0, 0.0, 1.0, 1.0, 0.0, 1.0, 0.0, 0.0, 0.0, ...</td>\n",
       "    </tr>\n",
       "    <tr>\n",
       "      <th>enrollee_id</th>\n",
       "      <td>8949</td>\n",
       "      <td>29725</td>\n",
       "      <td>11561</td>\n",
       "      <td>33241</td>\n",
       "      <td>666</td>\n",
       "      <td>21651</td>\n",
       "      <td>28806</td>\n",
       "      <td>402</td>\n",
       "      <td>27107</td>\n",
       "      <td>699</td>\n",
       "    </tr>\n",
       "    <tr>\n",
       "      <th>gender</th>\n",
       "      <td>Male</td>\n",
       "      <td>Male</td>\n",
       "      <td>Male</td>\n",
       "      <td>Male</td>\n",
       "      <td>Male</td>\n",
       "      <td>Male</td>\n",
       "      <td>Male</td>\n",
       "      <td>Male</td>\n",
       "      <td>Male</td>\n",
       "      <td>Male</td>\n",
       "    </tr>\n",
       "    <tr>\n",
       "      <th>relevent_experience</th>\n",
       "      <td>Has relevent experience</td>\n",
       "      <td>No relevent experience</td>\n",
       "      <td>No relevent experience</td>\n",
       "      <td>No relevent experience</td>\n",
       "      <td>Has relevent experience</td>\n",
       "      <td>Has relevent experience</td>\n",
       "      <td>Has relevent experience</td>\n",
       "      <td>Has relevent experience</td>\n",
       "      <td>Has relevent experience</td>\n",
       "      <td>Has relevent experience</td>\n",
       "    </tr>\n",
       "    <tr>\n",
       "      <th>enrolled_university</th>\n",
       "      <td>no_enrollment</td>\n",
       "      <td>no_enrollment</td>\n",
       "      <td>Full time course</td>\n",
       "      <td>no_enrollment</td>\n",
       "      <td>no_enrollment</td>\n",
       "      <td>Part time course</td>\n",
       "      <td>no_enrollment</td>\n",
       "      <td>no_enrollment</td>\n",
       "      <td>no_enrollment</td>\n",
       "      <td>no_enrollment</td>\n",
       "    </tr>\n",
       "    <tr>\n",
       "      <th>education_level</th>\n",
       "      <td>Graduate</td>\n",
       "      <td>Graduate</td>\n",
       "      <td>Graduate</td>\n",
       "      <td>Graduate</td>\n",
       "      <td>Masters</td>\n",
       "      <td>Graduate</td>\n",
       "      <td>High School</td>\n",
       "      <td>Graduate</td>\n",
       "      <td>Graduate</td>\n",
       "      <td>Graduate</td>\n",
       "    </tr>\n",
       "    <tr>\n",
       "      <th>major_discipline</th>\n",
       "      <td>STEM</td>\n",
       "      <td>STEM</td>\n",
       "      <td>STEM</td>\n",
       "      <td>Business Degree</td>\n",
       "      <td>STEM</td>\n",
       "      <td>STEM</td>\n",
       "      <td>STEM</td>\n",
       "      <td>STEM</td>\n",
       "      <td>STEM</td>\n",
       "      <td>STEM</td>\n",
       "    </tr>\n",
       "    <tr>\n",
       "      <th>experience</th>\n",
       "      <td>20</td>\n",
       "      <td>15</td>\n",
       "      <td>5</td>\n",
       "      <td>1</td>\n",
       "      <td>20</td>\n",
       "      <td>11</td>\n",
       "      <td>5</td>\n",
       "      <td>13</td>\n",
       "      <td>7</td>\n",
       "      <td>17</td>\n",
       "    </tr>\n",
       "    <tr>\n",
       "      <th>target</th>\n",
       "      <td>1</td>\n",
       "      <td>0</td>\n",
       "      <td>0</td>\n",
       "      <td>1</td>\n",
       "      <td>0</td>\n",
       "      <td>1</td>\n",
       "      <td>0</td>\n",
       "      <td>1</td>\n",
       "      <td>1</td>\n",
       "      <td>0</td>\n",
       "    </tr>\n",
       "  </tbody>\n",
       "</table>\n",
       "</div>"
      ],
      "text/plain": [
       "                                                                     0  \\\n",
       "label                                                                1   \n",
       "features             (1.0, 0.0, 1.0, 1.0, 0.0, 1.0, 0.0, 0.0, 0.0, ...   \n",
       "enrollee_id                                                       8949   \n",
       "gender                                                            Male   \n",
       "relevent_experience                            Has relevent experience   \n",
       "enrolled_university                                      no_enrollment   \n",
       "education_level                                               Graduate   \n",
       "major_discipline                                                  STEM   \n",
       "experience                                                          20   \n",
       "target                                                               1   \n",
       "\n",
       "                                                                     1  \\\n",
       "label                                                                0   \n",
       "features             (1.0, 0.0, 0.0, 1.0, 0.0, 1.0, 0.0, 0.0, 0.0, ...   \n",
       "enrollee_id                                                      29725   \n",
       "gender                                                            Male   \n",
       "relevent_experience                             No relevent experience   \n",
       "enrolled_university                                      no_enrollment   \n",
       "education_level                                               Graduate   \n",
       "major_discipline                                                  STEM   \n",
       "experience                                                          15   \n",
       "target                                                               0   \n",
       "\n",
       "                                                                     2  \\\n",
       "label                                                                0   \n",
       "features             (1.0, 0.0, 0.0, 0.0, 1.0, 1.0, 0.0, 0.0, 0.0, ...   \n",
       "enrollee_id                                                      11561   \n",
       "gender                                                            Male   \n",
       "relevent_experience                             No relevent experience   \n",
       "enrolled_university                                   Full time course   \n",
       "education_level                                               Graduate   \n",
       "major_discipline                                                  STEM   \n",
       "experience                                                           5   \n",
       "target                                                               0   \n",
       "\n",
       "                                                                     3  \\\n",
       "label                                                                1   \n",
       "features             (1.0, 0.0, 0.0, 1.0, 0.0, 1.0, 0.0, 0.0, 0.0, ...   \n",
       "enrollee_id                                                      33241   \n",
       "gender                                                            Male   \n",
       "relevent_experience                             No relevent experience   \n",
       "enrolled_university                                      no_enrollment   \n",
       "education_level                                               Graduate   \n",
       "major_discipline                                       Business Degree   \n",
       "experience                                                           1   \n",
       "target                                                               1   \n",
       "\n",
       "                                                                     4  \\\n",
       "label                                                                0   \n",
       "features             (1.0, 0.0, 1.0, 1.0, 0.0, 0.0, 1.0, 0.0, 0.0, ...   \n",
       "enrollee_id                                                        666   \n",
       "gender                                                            Male   \n",
       "relevent_experience                            Has relevent experience   \n",
       "enrolled_university                                      no_enrollment   \n",
       "education_level                                                Masters   \n",
       "major_discipline                                                  STEM   \n",
       "experience                                                          20   \n",
       "target                                                               0   \n",
       "\n",
       "                                                                     5  \\\n",
       "label                                                                1   \n",
       "features             (1.0, 0.0, 1.0, 0.0, 0.0, 1.0, 0.0, 0.0, 0.0, ...   \n",
       "enrollee_id                                                      21651   \n",
       "gender                                                            Male   \n",
       "relevent_experience                            Has relevent experience   \n",
       "enrolled_university                                   Part time course   \n",
       "education_level                                               Graduate   \n",
       "major_discipline                                                  STEM   \n",
       "experience                                                          11   \n",
       "target                                                               1   \n",
       "\n",
       "                                                                     6  \\\n",
       "label                                                                0   \n",
       "features             (1.0, 0.0, 1.0, 1.0, 0.0, 0.0, 0.0, 1.0, 0.0, ...   \n",
       "enrollee_id                                                      28806   \n",
       "gender                                                            Male   \n",
       "relevent_experience                            Has relevent experience   \n",
       "enrolled_university                                      no_enrollment   \n",
       "education_level                                            High School   \n",
       "major_discipline                                                  STEM   \n",
       "experience                                                           5   \n",
       "target                                                               0   \n",
       "\n",
       "                                                                     7  \\\n",
       "label                                                                1   \n",
       "features             (1.0, 0.0, 1.0, 1.0, 0.0, 1.0, 0.0, 0.0, 0.0, ...   \n",
       "enrollee_id                                                        402   \n",
       "gender                                                            Male   \n",
       "relevent_experience                            Has relevent experience   \n",
       "enrolled_university                                      no_enrollment   \n",
       "education_level                                               Graduate   \n",
       "major_discipline                                                  STEM   \n",
       "experience                                                          13   \n",
       "target                                                               1   \n",
       "\n",
       "                                                                     8  \\\n",
       "label                                                                1   \n",
       "features             (1.0, 0.0, 1.0, 1.0, 0.0, 1.0, 0.0, 0.0, 0.0, ...   \n",
       "enrollee_id                                                      27107   \n",
       "gender                                                            Male   \n",
       "relevent_experience                            Has relevent experience   \n",
       "enrolled_university                                      no_enrollment   \n",
       "education_level                                               Graduate   \n",
       "major_discipline                                                  STEM   \n",
       "experience                                                           7   \n",
       "target                                                               1   \n",
       "\n",
       "                                                                     9  \n",
       "label                                                                0  \n",
       "features             (1.0, 0.0, 1.0, 1.0, 0.0, 1.0, 0.0, 0.0, 0.0, ...  \n",
       "enrollee_id                                                        699  \n",
       "gender                                                            Male  \n",
       "relevent_experience                            Has relevent experience  \n",
       "enrolled_university                                      no_enrollment  \n",
       "education_level                                               Graduate  \n",
       "major_discipline                                                  STEM  \n",
       "experience                                                          17  \n",
       "target                                                               0  "
      ]
     },
     "execution_count": 48,
     "metadata": {},
     "output_type": "execute_result"
    }
   ],
   "source": [
    "pd.DataFrame(HR_train.take(10), columns=HR_train.columns).transpose()"
   ]
  },
  {
   "cell_type": "code",
   "execution_count": 50,
   "metadata": {},
   "outputs": [
    {
     "name": "stdout",
     "output_type": "stream",
     "text": [
      "Training Dataset Count: 15284\n",
      "Test Dataset Count: 3874\n"
     ]
    }
   ],
   "source": [
    "train, test = HR_train.randomSplit([0.8, 0.2], seed = 123)\n",
    "print(\"Training Dataset Count: \" + str(train.count()))\n",
    "print(\"Test Dataset Count: \" + str(test.count()))"
   ]
  },
  {
   "cell_type": "code",
   "execution_count": 51,
   "metadata": {},
   "outputs": [],
   "source": [
    "from pyspark.ml.classification import LogisticRegression\n",
    "lr = LogisticRegression(featuresCol = 'features', labelCol = 'label', maxIter=10)\n",
    "lrModel = lr.fit(train)"
   ]
  },
  {
   "cell_type": "code",
   "execution_count": 54,
   "metadata": {},
   "outputs": [
    {
     "data": {
      "image/png": "[encoded data removed]",
      "text/plain": [
       "<Figure size 432x288 with 1 Axes>"
      ]
     },
     "metadata": {
      "needs_background": "light"
     },
     "output_type": "display_data"
    }
   ],
   "source": [
    "JobChange = ny.sort(lrModel.coefficients)\n",
    "plt.plot(beta)\n",
    "plt.ylabel('Logistic Regression')\n",
    "plt.show()"
   ]
  },
  {
   "cell_type": "code",
   "execution_count": 55,
   "metadata": {},
   "outputs": [
    {
     "data": {
      "image/png": "[encoded data removed]",
      "text/plain": [
       "<Figure size 432x288 with 1 Axes>"
      ]
     },
     "metadata": {
      "needs_background": "light"
     },
     "output_type": "display_data"
    },
    {
     "name": "stdout",
     "output_type": "stream",
     "text": [
      "Training set areaUnderROC: 0.6575290250492387\n"
     ]
    }
   ],
   "source": [
    "trainingSummary = lrModel.summary\n",
    "roc = trainingSummary.roc.toPandas()\n",
    "plt.plot(roc['FPR'],roc['TPR'])\n",
    "plt.ylabel('False Positive Rate')\n",
    "plt.xlabel('True Positive Rate')\n",
    "plt.title('ROC Curve')\n",
    "plt.show()\n",
    "print('Training set areaUnderROC: ' + str(trainingSummary.areaUnderROC))"
   ]
  },
  {
   "cell_type": "markdown",
   "metadata": {},
   "source": [
    "Testing the modelled on the test dataset"
   ]
  },
  {
   "cell_type": "code",
   "execution_count": 77,
   "metadata": {},
   "outputs": [
    {
     "name": "stdout",
     "output_type": "stream",
     "text": [
      "+------+---------------+-----+--------------------+----------+--------------------+\n",
      "|gender|education_level|label|       rawPrediction|prediction|         probability|\n",
      "+------+---------------+-----+--------------------+----------+--------------------+\n",
      "|  Male|       Graduate|  0.0|[0.69013085179167...|       0.0|[0.66599603475223...|\n",
      "|  Male|       Graduate|  0.0|[0.69013085179167...|       0.0|[0.66599603475223...|\n",
      "|  Male|       Graduate|  0.0|[0.69013085179167...|       0.0|[0.66599603475223...|\n",
      "|  Male|       Graduate|  0.0|[0.69013085179167...|       0.0|[0.66599603475223...|\n",
      "|  Male|       Graduate|  0.0|[0.69013085179167...|       0.0|[0.66599603475223...|\n",
      "|  Male|       Graduate|  0.0|[0.69013085179167...|       0.0|[0.66599603475223...|\n",
      "|  Male|       Graduate|  0.0|[0.69013085179167...|       0.0|[0.66599603475223...|\n",
      "|  Male|       Graduate|  0.0|[0.69013085179167...|       0.0|[0.66599603475223...|\n",
      "|  Male|       Graduate|  0.0|[0.69013085179167...|       0.0|[0.66599603475223...|\n",
      "|  Male|       Graduate|  0.0|[0.69013085179167...|       0.0|[0.66599603475223...|\n",
      "+------+---------------+-----+--------------------+----------+--------------------+\n",
      "only showing top 10 rows\n",
      "\n"
     ]
    }
   ],
   "source": [
    "predictions = lrModel.transform(test)\n",
    "predictions.select('gender', 'education_level', 'label', 'rawPrediction', 'prediction', 'probability').show(10)"
   ]
  },
  {
   "cell_type": "code",
   "execution_count": 78,
   "metadata": {},
   "outputs": [
    {
     "name": "stdout",
     "output_type": "stream",
     "text": [
      "Test Area Under ROC 0.6544518474741016\n"
     ]
    }
   ],
   "source": [
    "from pyspark.ml.evaluation import BinaryClassificationEvaluator\n",
    "evaluator = BinaryClassificationEvaluator()\n",
    "print('Test Area Under ROC', evaluator.evaluate(predictions))"
   ]
  },
  {
   "cell_type": "code",
   "execution_count": null,
   "metadata": {},
   "outputs": [],
   "source": []
  },
  {
   "cell_type": "code",
   "execution_count": null,
   "metadata": {},
   "outputs": [],
   "source": []
  },
  {
   "cell_type": "markdown",
   "metadata": {},
   "source": [
    "DECISION TREE\n",
    "\n"
   ]
  },
  {
   "cell_type": "code",
   "execution_count": 81,
   "metadata": {},
   "outputs": [
    {
     "name": "stdout",
     "output_type": "stream",
     "text": [
      "+----------+------------+--------------------+\n",
      "|prediction|indexedLabel|            features|\n",
      "+----------+------------+--------------------+\n",
      "|       1.0|         0.0|(15,[0,2,3,5,9,14...|\n",
      "|       1.0|         0.0|(15,[0,2,3,5,9,14...|\n",
      "|       1.0|         0.0|(15,[0,2,3,5,9,14...|\n",
      "|       1.0|         0.0|(15,[0,2,3,5,9,14...|\n",
      "|       1.0|         0.0|(15,[0,2,3,5,9,14...|\n",
      "+----------+------------+--------------------+\n",
      "only showing top 5 rows\n",
      "\n",
      "Test Error = 0.239023 \n",
      "DecisionTreeClassificationModel: uid=DecisionTreeClassifier_d22368ce53a0, depth=5, numNodes=25, numClasses=2, numFeatures=15\n"
     ]
    }
   ],
   "source": [
    "from pyspark.ml import Pipeline\n",
    "from pyspark.ml.classification import DecisionTreeClassifier\n",
    "from pyspark.ml.feature import StringIndexer, VectorIndexer\n",
    "from pyspark.ml.evaluation import MulticlassClassificationEvaluator\n",
    "\n",
    "# Load the data stored in LIBSVM format as a DataFrame.\n",
    "# data = spark.read.format(\"libsvm\").load(\"data/mllib/sample_libsvm_data.txt\")\n",
    "\n",
    "# Index labels, adding metadata to the label column.\n",
    "# Fit on whole dataset to include all labels in index.\n",
    "labelIndexer = StringIndexer(inputCol=\"label\", outputCol=\"indexedLabel\").fit(HR_train)\n",
    "# Automatically identify categorical features, and index them.\n",
    "# We specify maxCategories so features with > 4 distinct values are treated as continuous.\n",
    "featureIndexer =\\\n",
    "    VectorIndexer(inputCol=\"features\", outputCol=\"indexedFeatures\", maxCategories=4).fit(HR_train)\n",
    "\n",
    "# Split the data into training and test sets (30% held out for testing)\n",
    "#(trainingData, testData) = HR_train.randomSplit([0.8, 0.2])\n",
    "\n",
    "# Train a DecisionTree model.\n",
    "dt = DecisionTreeClassifier(labelCol=\"indexedLabel\", featuresCol=\"indexedFeatures\")\n",
    "\n",
    "# Chain indexers and tree in a Pipeline\n",
    "pipeline = Pipeline(stages=[labelIndexer, featureIndexer, HR_train])\n",
    "\n",
    "# # Train model.  This also runs the indexers.\n",
    "# model = pipeline.fit(train)\n",
    "\n",
    "# Make predictions.\n",
    "predictions = model.transform(test)\n",
    "\n",
    "# Select example rows to display.\n",
    "predictions.select(\"prediction\", \"indexedLabel\", \"features\").show(5)\n",
    "\n",
    "# Select (prediction, true label) and compute test error\n",
    "evaluator = MulticlassClassificationEvaluator(\n",
    "    labelCol=\"indexedLabel\", predictionCol=\"prediction\", metricName=\"accuracy\")\n",
    "accuracy = evaluator.evaluate(predictions)\n",
    "print(\"Test Error = %g \" % (1.0 - accuracy))\n",
    "\n",
    "treeModel = model.stages[2]\n",
    "# summary only\n",
    "print(treeModel)"
   ]
  },
  {
   "cell_type": "code",
   "execution_count": 83,
   "metadata": {},
   "outputs": [],
   "source": [
    "# Train model.  This also runs the indexers.\n",
    "model = pipeline.fit(train)"
   ]
  },
  {
   "cell_type": "code",
   "execution_count": 84,
   "metadata": {},
   "outputs": [
    {
     "name": "stdout",
     "output_type": "stream",
     "text": [
      "+------+---------------+-----+---------------+----------+--------------------+\n",
      "|gender|education_level|label|  rawPrediction|prediction|         probability|\n",
      "+------+---------------+-----+---------------+----------+--------------------+\n",
      "|  Male|       Graduate|  0.0|[3306.0,1383.0]|       0.0|[0.70505438259756...|\n",
      "|  Male|       Graduate|  0.0|[3306.0,1383.0]|       0.0|[0.70505438259756...|\n",
      "|  Male|       Graduate|  0.0|[3306.0,1383.0]|       0.0|[0.70505438259756...|\n",
      "|  Male|       Graduate|  0.0|[3306.0,1383.0]|       0.0|[0.70505438259756...|\n",
      "|  Male|       Graduate|  0.0|[3306.0,1383.0]|       0.0|[0.70505438259756...|\n",
      "+------+---------------+-----+---------------+----------+--------------------+\n",
      "only showing top 5 rows\n",
      "\n"
     ]
    }
   ],
   "source": [
    "# Make predictions.\n",
    "predictions = model.transform(test)\n",
    "\n",
    "# Select example rows to display.\n",
    "predictions.select('gender', 'education_level', 'label', 'rawPrediction', 'prediction', 'probability').show(5)"
   ]
  },
  {
   "cell_type": "code",
   "execution_count": null,
   "metadata": {},
   "outputs": [],
   "source": []
  },
  {
   "cell_type": "code",
   "execution_count": 85,
   "metadata": {},
   "outputs": [
    {
     "ename": "AttributeError",
     "evalue": "'DecisionTreeClassificationModel' object has no attribute 'coefficients'",
     "output_type": "error",
     "traceback": [
      "\u001b[1;31m---------------------------------------------------------------------------\u001b[0m",
      "\u001b[1;31mAttributeError\u001b[0m                            Traceback (most recent call last)",
      "\u001b[1;32m<ipython-input-85-448881992531>\u001b[0m in \u001b[0;36m<module>\u001b[1;34m\u001b[0m\n\u001b[1;32m----> 1\u001b[1;33m \u001b[0mJobChange\u001b[0m \u001b[1;33m=\u001b[0m \u001b[0mny\u001b[0m\u001b[1;33m.\u001b[0m\u001b[0msort\u001b[0m\u001b[1;33m(\u001b[0m\u001b[0mtreeModel\u001b[0m\u001b[1;33m.\u001b[0m\u001b[0mcoefficients\u001b[0m\u001b[1;33m)\u001b[0m\u001b[1;33m\u001b[0m\u001b[1;33m\u001b[0m\u001b[0m\n\u001b[0m\u001b[0;32m      2\u001b[0m \u001b[0mplt\u001b[0m\u001b[1;33m.\u001b[0m\u001b[0mplot\u001b[0m\u001b[1;33m(\u001b[0m\u001b[0mJobChange\u001b[0m\u001b[1;33m)\u001b[0m\u001b[1;33m\u001b[0m\u001b[1;33m\u001b[0m\u001b[0m\n\u001b[0;32m      3\u001b[0m \u001b[0mplt\u001b[0m\u001b[1;33m.\u001b[0m\u001b[0mylabel\u001b[0m\u001b[1;33m(\u001b[0m\u001b[1;34m'Decision Tree'\u001b[0m\u001b[1;33m)\u001b[0m\u001b[1;33m\u001b[0m\u001b[1;33m\u001b[0m\u001b[0m\n\u001b[0;32m      4\u001b[0m \u001b[0mplt\u001b[0m\u001b[1;33m.\u001b[0m\u001b[0mshow\u001b[0m\u001b[1;33m(\u001b[0m\u001b[1;33m)\u001b[0m\u001b[1;33m\u001b[0m\u001b[1;33m\u001b[0m\u001b[0m\n",
      "\u001b[1;31mAttributeError\u001b[0m: 'DecisionTreeClassificationModel' object has no attribute 'coefficients'"
     ]
    }
   ],
   "source": [
    "JobChange = ny.sort(treeModel.coefficients)\n",
    "plt.plot(JobChange)\n",
    "plt.ylabel('Decision Tree')\n",
    "plt.show()"
   ]
  },
  {
   "cell_type": "code",
   "execution_count": null,
   "metadata": {},
   "outputs": [],
   "source": []
  },
  {
   "cell_type": "markdown",
   "metadata": {},
   "source": [
    "To use the HR_test. we need to ensure it is clean and ok"
   ]
  },
  {
   "cell_type": "code",
   "execution_count": 56,
   "metadata": {},
   "outputs": [
    {
     "name": "stdout",
     "output_type": "stream",
     "text": [
      "root\n",
      " |-- enrollee_id: integer (nullable = true)\n",
      " |-- city: string (nullable = true)\n",
      " |-- city_development_index: double (nullable = true)\n",
      " |-- gender: string (nullable = true)\n",
      " |-- relevent_experience: string (nullable = true)\n",
      " |-- enrolled_university: string (nullable = true)\n",
      " |-- education_level: string (nullable = true)\n",
      " |-- major_discipline: string (nullable = true)\n",
      " |-- experience: string (nullable = true)\n",
      " |-- company_size: string (nullable = true)\n",
      " |-- company_type: string (nullable = true)\n",
      " |-- last_new_job: string (nullable = true)\n",
      " |-- training_hours: integer (nullable = true)\n",
      "\n"
     ]
    }
   ],
   "source": [
    "HR_test.printSchema()"
   ]
  },
  {
   "cell_type": "code",
   "execution_count": 57,
   "metadata": {},
   "outputs": [],
   "source": [
    "HR_test = HR_test.drop(\"company_size\",'company_type','city', 'city_development_index', 'last_new_job', 'training_hours')"
   ]
  },
  {
   "cell_type": "code",
   "execution_count": 58,
   "metadata": {},
   "outputs": [
    {
     "data": {
      "text/plain": [
       "DataFrame[enrollee_id: int, gender: string, relevent_experience: string, enrolled_university: string, education_level: string, major_discipline: string, experience: string]"
      ]
     },
     "execution_count": 58,
     "metadata": {},
     "output_type": "execute_result"
    }
   ],
   "source": [
    "HR_test"
   ]
  },
  {
   "cell_type": "code",
   "execution_count": 59,
   "metadata": {},
   "outputs": [
    {
     "name": "stdout",
     "output_type": "stream",
     "text": [
      "+-------+-----------------+\n",
      "|summary|      enrollee_id|\n",
      "+-------+-----------------+\n",
      "|  count|             2129|\n",
      "|   mean|16861.61484264913|\n",
      "| stddev|9576.846028542162|\n",
      "|    min|                3|\n",
      "|    max|            33353|\n",
      "+-------+-----------------+\n",
      "\n",
      "+-------+------+\n",
      "|summary|gender|\n",
      "+-------+------+\n",
      "|  count|  1621|\n",
      "|   mean|  null|\n",
      "| stddev|  null|\n",
      "|    min|Female|\n",
      "|    max| Other|\n",
      "+-------+------+\n",
      "\n",
      "+-------+--------------------+\n",
      "|summary| relevent_experience|\n",
      "+-------+--------------------+\n",
      "|  count|                2129|\n",
      "|   mean|                null|\n",
      "| stddev|                null|\n",
      "|    min|Has relevent expe...|\n",
      "|    max|No relevent exper...|\n",
      "+-------+--------------------+\n",
      "\n",
      "+-------+-------------------+\n",
      "|summary|enrolled_university|\n",
      "+-------+-------------------+\n",
      "|  count|               2098|\n",
      "|   mean|               null|\n",
      "| stddev|               null|\n",
      "|    min|   Full time course|\n",
      "|    max|      no_enrollment|\n",
      "+-------+-------------------+\n",
      "\n",
      "+-------+---------------+\n",
      "|summary|education_level|\n",
      "+-------+---------------+\n",
      "|  count|           2077|\n",
      "|   mean|           null|\n",
      "| stddev|           null|\n",
      "|    min|       Graduate|\n",
      "|    max| Primary School|\n",
      "+-------+---------------+\n",
      "\n",
      "+-------+----------------+\n",
      "|summary|major_discipline|\n",
      "+-------+----------------+\n",
      "|  count|            1817|\n",
      "|   mean|            null|\n",
      "| stddev|            null|\n",
      "|    min|            Arts|\n",
      "|    max|            STEM|\n",
      "+-------+----------------+\n",
      "\n",
      "+-------+-----------------+\n",
      "|summary|       experience|\n",
      "+-------+-----------------+\n",
      "|  count|             2124|\n",
      "|   mean|8.050389922015597|\n",
      "| stddev|4.903496513627199|\n",
      "|    min|                1|\n",
      "|    max|              >20|\n",
      "+-------+-----------------+\n",
      "\n"
     ]
    }
   ],
   "source": [
    "for col in HR_test.columns:\n",
    "    HR_test.describe([col]).show()"
   ]
  },
  {
   "cell_type": "code",
   "execution_count": 60,
   "metadata": {},
   "outputs": [
    {
     "name": "stdout",
     "output_type": "stream",
     "text": [
      "enrollee_id \t with null values:  0\n",
      "gender \t with null values:  508\n",
      "relevent_experience \t with null values:  0\n",
      "enrolled_university \t with null values:  31\n",
      "education_level \t with null values:  52\n",
      "major_discipline \t with null values:  312\n",
      "experience \t with null values:  5\n"
     ]
    }
   ],
   "source": [
    "#Count the value of 'with null values' in every column\n",
    "for col in HR_test.columns:\n",
    "     print(col, \"\\t\", \"with null values: \", HR_test.filter(HR_test[col].isNull()).count())"
   ]
  },
  {
   "cell_type": "code",
   "execution_count": 63,
   "metadata": {},
   "outputs": [],
   "source": [
    "def mode_of_pyspark_columns(HR_test, cat_col_list, verbose=False):\n",
    "    col_with_mode=[]\n",
    "    for col in cat_col_list:\n",
    "        #Filter null\n",
    "        HR_test = HR_test.filter(HR_test[col].isNull()==False)\n",
    "        #Find unique_values_with_count\n",
    "        unique_classes = HR_test.select(col).distinct().rdd.map(lambda x: x[0]).collect()\n",
    "        unique_values_with_count=[]\n",
    "        for uc in unique_classes:\n",
    "             unique_values_with_count.append([uc, HR_test.filter(HR_test[col]==uc).count()])\n",
    "        #sort unique values w.r.t their count values\n",
    "        sorted_unique_values_with_count= sorted(unique_values_with_count, key = lambda x: x[1], reverse =True)\n",
    "        \n",
    "        if (verbose==True): print(col, sorted_unique_values_with_count, \" and mode is \", sorted_unique_values_with_count[0][0])\n",
    "        col_with_mode.append([col, sorted_unique_values_with_count[0][0]])\n",
    "    return col_with_mode"
   ]
  },
  {
   "cell_type": "code",
   "execution_count": 64,
   "metadata": {},
   "outputs": [
    {
     "name": "stdout",
     "output_type": "stream",
     "text": [
      "gender [['Male', 1460], ['Female', 137], ['Other', 24]]  and mode is  Male\n",
      "enrolled_university [['no_enrollment', 1201], ['Full time course', 294], ['Part time course', 108]]  and mode is  no_enrollment\n",
      "education_level [['Graduate', 970], ['Masters', 380], ['High School', 167], ['Phd', 42], ['Primary School', 21]]  and mode is  Graduate\n",
      "major_discipline [['STEM', 1230], ['Humanities', 67], ['Other', 30], ['Business Degree', 29], ['No Major', 18], ['Arts', 16]]  and mode is  STEM\n"
     ]
    },
    {
     "data": {
      "text/plain": [
       "[['gender', 'Male'],\n",
       " ['enrolled_university', 'no_enrollment'],\n",
       " ['education_level', 'Graduate'],\n",
       " ['major_discipline', 'STEM']]"
      ]
     },
     "execution_count": 64,
     "metadata": {},
     "output_type": "execute_result"
    }
   ],
   "source": [
    "#Validate it\n",
    "cat_col_list=['gender','enrolled_university', 'education_level', 'major_discipline']\n",
    "mode_of_pyspark_columns(HR_test, cat_col_list, verbose=True)"
   ]
  },
  {
   "cell_type": "code",
   "execution_count": 67,
   "metadata": {},
   "outputs": [],
   "source": [
    "\n",
    "#Find the avg of all numeric columns\n",
    "from pyspark.sql.functions import avg\n",
    "\n",
    "def mean_of_pyspark_columns(HR_test, numeric_cols, verbose=False):\n",
    "    col_with_mean=[]\n",
    "    for col in numeric_cols:\n",
    "        mean_value = HR_test.select(avg(HR_test[col]))\n",
    "        avg_col = mean_value.columns[0]\n",
    "        res = mean_value.rdd.map(lambda row : row[avg_col]).collect()\n",
    "        \n",
    "        if (verbose==True): print(mean_value.columns[0], \"\\t\", res[0])\n",
    "        col_with_mean.append([col, res[0]])    \n",
    "    return col_with_mean"
   ]
  },
  {
   "cell_type": "code",
   "execution_count": 68,
   "metadata": {},
   "outputs": [
    {
     "name": "stdout",
     "output_type": "stream",
     "text": [
      "avg(experience) \t 8.050389922015597\n"
     ]
    },
    {
     "data": {
      "text/plain": [
       "[['experience', 8.050389922015597]]"
      ]
     },
     "execution_count": 68,
     "metadata": {},
     "output_type": "execute_result"
    }
   ],
   "source": [
    "\n",
    "#Validate it\n",
    "numeric_cols=['experience']    \n",
    "mean_of_pyspark_columns(HR_test, numeric_cols, verbose=True)"
   ]
  },
  {
   "cell_type": "code",
   "execution_count": 74,
   "metadata": {},
   "outputs": [],
   "source": [
    "#Fill missing values for mode\n",
    "from pyspark.sql.functions import when, lit\n",
    "\n",
    "def fill_missing_with_mode(HR_test, cat_col_list):\n",
    "    col_with_mode =mode_of_pyspark_columns(HR_test, cat_col_list)\n",
    "    \n",
    "    for col, mode in col_with_mode:\n",
    "        HR_test = HR_test.withColumn(col, when(HR_test[col].isNull()==True, \n",
    "        lit(mode)).otherwise(HR_test[col]))\n",
    "        \n",
    "    return HR_test"
   ]
  },
  {
   "cell_type": "code",
   "execution_count": 75,
   "metadata": {},
   "outputs": [
    {
     "ename": "Py4JJavaError",
     "evalue": "An error occurred while calling z:org.apache.spark.api.python.PythonRDD.collectAndServe.\n: org.apache.spark.SparkException: Job aborted due to stage failure: Task 152 in stage 388.0 failed 1 times, most recent failure: Lost task 152.0 in stage 388.0 (TID 4463) (LAPTOP-1UBS8G8S executor driver): org.apache.spark.SparkException: Python worker failed to connect back.\r\n\tat org.apache.spark.api.python.PythonWorkerFactory.createSimpleWorker(PythonWorkerFactory.scala:182)\r\n\tat org.apache.spark.api.python.PythonWorkerFactory.create(PythonWorkerFactory.scala:107)\r\n\tat org.apache.spark.SparkEnv.createPythonWorker(SparkEnv.scala:119)\r\n\tat org.apache.spark.api.python.BasePythonRunner.compute(PythonRunner.scala:145)\r\n\tat org.apache.spark.api.python.PythonRDD.compute(PythonRDD.scala:65)\r\n\tat org.apache.spark.rdd.RDD.computeOrReadCheckpoint(RDD.scala:373)\r\n\tat org.apache.spark.rdd.RDD.iterator(RDD.scala:337)\r\n\tat org.apache.spark.scheduler.ResultTask.runTask(ResultTask.scala:90)\r\n\tat org.apache.spark.scheduler.Task.run(Task.scala:131)\r\n\tat org.apache.spark.executor.Executor$TaskRunner.$anonfun$run$3(Executor.scala:497)\r\n\tat org.apache.spark.util.Utils$.tryWithSafeFinally(Utils.scala:1439)\r\n\tat org.apache.spark.executor.Executor$TaskRunner.run(Executor.scala:500)\r\n\tat java.util.concurrent.ThreadPoolExecutor.runWorker(Unknown Source)\r\n\tat java.util.concurrent.ThreadPoolExecutor$Worker.run(Unknown Source)\r\n\tat java.lang.Thread.run(Unknown Source)\r\nCaused by: java.lang.NegativeArraySizeException\r\n\tat org.apache.spark.security.SocketAuthHelper.readUtf8(SocketAuthHelper.scala:104)\r\n\tat org.apache.spark.security.SocketAuthHelper.authClient(SocketAuthHelper.scala:57)\r\n\tat org.apache.spark.api.python.PythonWorkerFactory.createSimpleWorker(PythonWorkerFactory.scala:175)\r\n\t... 14 more\r\n\nDriver stacktrace:\r\n\tat org.apache.spark.scheduler.DAGScheduler.failJobAndIndependentStages(DAGScheduler.scala:2258)\r\n\tat org.apache.spark.scheduler.DAGScheduler.$anonfun$abortStage$2(DAGScheduler.scala:2207)\r\n\tat org.apache.spark.scheduler.DAGScheduler.$anonfun$abortStage$2$adapted(DAGScheduler.scala:2206)\r\n\tat scala.collection.mutable.ResizableArray.foreach(ResizableArray.scala:62)\r\n\tat scala.collection.mutable.ResizableArray.foreach$(ResizableArray.scala:55)\r\n\tat scala.collection.mutable.ArrayBuffer.foreach(ArrayBuffer.scala:49)\r\n\tat org.apache.spark.scheduler.DAGScheduler.abortStage(DAGScheduler.scala:2206)\r\n\tat org.apache.spark.scheduler.DAGScheduler.$anonfun$handleTaskSetFailed$1(DAGScheduler.scala:1079)\r\n\tat org.apache.spark.scheduler.DAGScheduler.$anonfun$handleTaskSetFailed$1$adapted(DAGScheduler.scala:1079)\r\n\tat scala.Option.foreach(Option.scala:407)\r\n\tat org.apache.spark.scheduler.DAGScheduler.handleTaskSetFailed(DAGScheduler.scala:1079)\r\n\tat org.apache.spark.scheduler.DAGSchedulerEventProcessLoop.doOnReceive(DAGScheduler.scala:2445)\r\n\tat org.apache.spark.scheduler.DAGSchedulerEventProcessLoop.onReceive(DAGScheduler.scala:2387)\r\n\tat org.apache.spark.scheduler.DAGSchedulerEventProcessLoop.onReceive(DAGScheduler.scala:2376)\r\n\tat org.apache.spark.util.EventLoop$$anon$1.run(EventLoop.scala:49)\r\n\tat org.apache.spark.scheduler.DAGScheduler.runJob(DAGScheduler.scala:868)\r\n\tat org.apache.spark.SparkContext.runJob(SparkContext.scala:2196)\r\n\tat org.apache.spark.SparkContext.runJob(SparkContext.scala:2217)\r\n\tat org.apache.spark.SparkContext.runJob(SparkContext.scala:2236)\r\n\tat org.apache.spark.SparkContext.runJob(SparkContext.scala:2261)\r\n\tat org.apache.spark.rdd.RDD.$anonfun$collect$1(RDD.scala:1030)\r\n\tat org.apache.spark.rdd.RDDOperationScope$.withScope(RDDOperationScope.scala:151)\r\n\tat org.apache.spark.rdd.RDDOperationScope$.withScope(RDDOperationScope.scala:112)\r\n\tat org.apache.spark.rdd.RDD.withScope(RDD.scala:414)\r\n\tat org.apache.spark.rdd.RDD.collect(RDD.scala:1029)\r\n\tat org.apache.spark.api.python.PythonRDD$.collectAndServe(PythonRDD.scala:180)\r\n\tat org.apache.spark.api.python.PythonRDD.collectAndServe(PythonRDD.scala)\r\n\tat sun.reflect.NativeMethodAccessorImpl.invoke0(Native Method)\r\n\tat sun.reflect.NativeMethodAccessorImpl.invoke(Unknown Source)\r\n\tat sun.reflect.DelegatingMethodAccessorImpl.invoke(Unknown Source)\r\n\tat java.lang.reflect.Method.invoke(Unknown Source)\r\n\tat py4j.reflection.MethodInvoker.invoke(MethodInvoker.java:244)\r\n\tat py4j.reflection.ReflectionEngine.invoke(ReflectionEngine.java:357)\r\n\tat py4j.Gateway.invoke(Gateway.java:282)\r\n\tat py4j.commands.AbstractCommand.invokeMethod(AbstractCommand.java:132)\r\n\tat py4j.commands.CallCommand.execute(CallCommand.java:79)\r\n\tat py4j.GatewayConnection.run(GatewayConnection.java:238)\r\n\tat java.lang.Thread.run(Unknown Source)\r\nCaused by: org.apache.spark.SparkException: Python worker failed to connect back.\r\n\tat org.apache.spark.api.python.PythonWorkerFactory.createSimpleWorker(PythonWorkerFactory.scala:182)\r\n\tat org.apache.spark.api.python.PythonWorkerFactory.create(PythonWorkerFactory.scala:107)\r\n\tat org.apache.spark.SparkEnv.createPythonWorker(SparkEnv.scala:119)\r\n\tat org.apache.spark.api.python.BasePythonRunner.compute(PythonRunner.scala:145)\r\n\tat org.apache.spark.api.python.PythonRDD.compute(PythonRDD.scala:65)\r\n\tat org.apache.spark.rdd.RDD.computeOrReadCheckpoint(RDD.scala:373)\r\n\tat org.apache.spark.rdd.RDD.iterator(RDD.scala:337)\r\n\tat org.apache.spark.scheduler.ResultTask.runTask(ResultTask.scala:90)\r\n\tat org.apache.spark.scheduler.Task.run(Task.scala:131)\r\n\tat org.apache.spark.executor.Executor$TaskRunner.$anonfun$run$3(Executor.scala:497)\r\n\tat org.apache.spark.util.Utils$.tryWithSafeFinally(Utils.scala:1439)\r\n\tat org.apache.spark.executor.Executor$TaskRunner.run(Executor.scala:500)\r\n\tat java.util.concurrent.ThreadPoolExecutor.runWorker(Unknown Source)\r\n\tat java.util.concurrent.ThreadPoolExecutor$Worker.run(Unknown Source)\r\n\t... 1 more\r\nCaused by: java.lang.NegativeArraySizeException\r\n\tat org.apache.spark.security.SocketAuthHelper.readUtf8(SocketAuthHelper.scala:104)\r\n\tat org.apache.spark.security.SocketAuthHelper.authClient(SocketAuthHelper.scala:57)\r\n\tat org.apache.spark.api.python.PythonWorkerFactory.createSimpleWorker(PythonWorkerFactory.scala:175)\r\n\t... 14 more\r\n",
     "output_type": "error",
     "traceback": [
      "\u001b[1;31m---------------------------------------------------------------------------\u001b[0m",
      "\u001b[1;31mPy4JJavaError\u001b[0m                             Traceback (most recent call last)",
      "\u001b[1;32m<ipython-input-75-44290be91bff>\u001b[0m in \u001b[0;36m<module>\u001b[1;34m\u001b[0m\n\u001b[0;32m      1\u001b[0m \u001b[1;31m#Now this is the time to literally consume the fill_missing_with_mode\u001b[0m\u001b[1;33m\u001b[0m\u001b[1;33m\u001b[0m\u001b[1;33m\u001b[0m\u001b[0m\n\u001b[0;32m      2\u001b[0m \u001b[0mcat_col_list\u001b[0m\u001b[1;33m=\u001b[0m\u001b[1;33m[\u001b[0m\u001b[1;34m'gender'\u001b[0m\u001b[1;33m,\u001b[0m\u001b[1;34m'enrolled_university'\u001b[0m\u001b[1;33m,\u001b[0m \u001b[1;34m'education_level'\u001b[0m\u001b[1;33m,\u001b[0m \u001b[1;34m'major_discipline'\u001b[0m\u001b[1;33m]\u001b[0m\u001b[1;33m\u001b[0m\u001b[1;33m\u001b[0m\u001b[0m\n\u001b[1;32m----> 3\u001b[1;33m \u001b[0mHR_test\u001b[0m\u001b[1;33m=\u001b[0m \u001b[0mfill_missing_with_mode\u001b[0m\u001b[1;33m(\u001b[0m\u001b[0mHR_test\u001b[0m\u001b[1;33m,\u001b[0m \u001b[0mcat_col_list\u001b[0m\u001b[1;33m)\u001b[0m\u001b[1;33m\u001b[0m\u001b[1;33m\u001b[0m\u001b[0m\n\u001b[0m",
      "\u001b[1;32m<ipython-input-74-39a4d19f9bf2>\u001b[0m in \u001b[0;36mfill_missing_with_mode\u001b[1;34m(HR_test, cat_col_list)\u001b[0m\n\u001b[0;32m      3\u001b[0m \u001b[1;33m\u001b[0m\u001b[0m\n\u001b[0;32m      4\u001b[0m \u001b[1;32mdef\u001b[0m \u001b[0mfill_missing_with_mode\u001b[0m\u001b[1;33m(\u001b[0m\u001b[0mHR_test\u001b[0m\u001b[1;33m,\u001b[0m \u001b[0mcat_col_list\u001b[0m\u001b[1;33m)\u001b[0m\u001b[1;33m:\u001b[0m\u001b[1;33m\u001b[0m\u001b[1;33m\u001b[0m\u001b[0m\n\u001b[1;32m----> 5\u001b[1;33m     \u001b[0mcol_with_mode\u001b[0m \u001b[1;33m=\u001b[0m\u001b[0mmode_of_pyspark_columns\u001b[0m\u001b[1;33m(\u001b[0m\u001b[0mHR_test\u001b[0m\u001b[1;33m,\u001b[0m \u001b[0mcat_col_list\u001b[0m\u001b[1;33m)\u001b[0m\u001b[1;33m\u001b[0m\u001b[1;33m\u001b[0m\u001b[0m\n\u001b[0m\u001b[0;32m      6\u001b[0m \u001b[1;33m\u001b[0m\u001b[0m\n\u001b[0;32m      7\u001b[0m     \u001b[1;32mfor\u001b[0m \u001b[0mcol\u001b[0m\u001b[1;33m,\u001b[0m \u001b[0mmode\u001b[0m \u001b[1;32min\u001b[0m \u001b[0mcol_with_mode\u001b[0m\u001b[1;33m:\u001b[0m\u001b[1;33m\u001b[0m\u001b[1;33m\u001b[0m\u001b[0m\n",
      "\u001b[1;32m<ipython-input-63-326241c46def>\u001b[0m in \u001b[0;36mmode_of_pyspark_columns\u001b[1;34m(HR_test, cat_col_list, verbose)\u001b[0m\n\u001b[0;32m      5\u001b[0m         \u001b[0mHR_test\u001b[0m \u001b[1;33m=\u001b[0m \u001b[0mHR_test\u001b[0m\u001b[1;33m.\u001b[0m\u001b[0mfilter\u001b[0m\u001b[1;33m(\u001b[0m\u001b[0mHR_test\u001b[0m\u001b[1;33m[\u001b[0m\u001b[0mcol\u001b[0m\u001b[1;33m]\u001b[0m\u001b[1;33m.\u001b[0m\u001b[0misNull\u001b[0m\u001b[1;33m(\u001b[0m\u001b[1;33m)\u001b[0m\u001b[1;33m==\u001b[0m\u001b[1;32mFalse\u001b[0m\u001b[1;33m)\u001b[0m\u001b[1;33m\u001b[0m\u001b[1;33m\u001b[0m\u001b[0m\n\u001b[0;32m      6\u001b[0m         \u001b[1;31m#Find unique_values_with_count\u001b[0m\u001b[1;33m\u001b[0m\u001b[1;33m\u001b[0m\u001b[1;33m\u001b[0m\u001b[0m\n\u001b[1;32m----> 7\u001b[1;33m         \u001b[0munique_classes\u001b[0m \u001b[1;33m=\u001b[0m \u001b[0mHR_test\u001b[0m\u001b[1;33m.\u001b[0m\u001b[0mselect\u001b[0m\u001b[1;33m(\u001b[0m\u001b[0mcol\u001b[0m\u001b[1;33m)\u001b[0m\u001b[1;33m.\u001b[0m\u001b[0mdistinct\u001b[0m\u001b[1;33m(\u001b[0m\u001b[1;33m)\u001b[0m\u001b[1;33m.\u001b[0m\u001b[0mrdd\u001b[0m\u001b[1;33m.\u001b[0m\u001b[0mmap\u001b[0m\u001b[1;33m(\u001b[0m\u001b[1;32mlambda\u001b[0m \u001b[0mx\u001b[0m\u001b[1;33m:\u001b[0m \u001b[0mx\u001b[0m\u001b[1;33m[\u001b[0m\u001b[1;36m0\u001b[0m\u001b[1;33m]\u001b[0m\u001b[1;33m)\u001b[0m\u001b[1;33m.\u001b[0m\u001b[0mcollect\u001b[0m\u001b[1;33m(\u001b[0m\u001b[1;33m)\u001b[0m\u001b[1;33m\u001b[0m\u001b[1;33m\u001b[0m\u001b[0m\n\u001b[0m\u001b[0;32m      8\u001b[0m         \u001b[0munique_values_with_count\u001b[0m\u001b[1;33m=\u001b[0m\u001b[1;33m[\u001b[0m\u001b[1;33m]\u001b[0m\u001b[1;33m\u001b[0m\u001b[1;33m\u001b[0m\u001b[0m\n\u001b[0;32m      9\u001b[0m         \u001b[1;32mfor\u001b[0m \u001b[0muc\u001b[0m \u001b[1;32min\u001b[0m \u001b[0munique_classes\u001b[0m\u001b[1;33m:\u001b[0m\u001b[1;33m\u001b[0m\u001b[1;33m\u001b[0m\u001b[0m\n",
      "\u001b[1;32mC:\\Program Files\\spark-3.1.2-bin-hadoop2.7\\python\\pyspark\\rdd.py\u001b[0m in \u001b[0;36mcollect\u001b[1;34m(self)\u001b[0m\n\u001b[0;32m    947\u001b[0m         \"\"\"\n\u001b[0;32m    948\u001b[0m         \u001b[1;32mwith\u001b[0m \u001b[0mSCCallSiteSync\u001b[0m\u001b[1;33m(\u001b[0m\u001b[0mself\u001b[0m\u001b[1;33m.\u001b[0m\u001b[0mcontext\u001b[0m\u001b[1;33m)\u001b[0m \u001b[1;32mas\u001b[0m \u001b[0mcss\u001b[0m\u001b[1;33m:\u001b[0m\u001b[1;33m\u001b[0m\u001b[1;33m\u001b[0m\u001b[0m\n\u001b[1;32m--> 949\u001b[1;33m             \u001b[0msock_info\u001b[0m \u001b[1;33m=\u001b[0m \u001b[0mself\u001b[0m\u001b[1;33m.\u001b[0m\u001b[0mctx\u001b[0m\u001b[1;33m.\u001b[0m\u001b[0m_jvm\u001b[0m\u001b[1;33m.\u001b[0m\u001b[0mPythonRDD\u001b[0m\u001b[1;33m.\u001b[0m\u001b[0mcollectAndServe\u001b[0m\u001b[1;33m(\u001b[0m\u001b[0mself\u001b[0m\u001b[1;33m.\u001b[0m\u001b[0m_jrdd\u001b[0m\u001b[1;33m.\u001b[0m\u001b[0mrdd\u001b[0m\u001b[1;33m(\u001b[0m\u001b[1;33m)\u001b[0m\u001b[1;33m)\u001b[0m\u001b[1;33m\u001b[0m\u001b[1;33m\u001b[0m\u001b[0m\n\u001b[0m\u001b[0;32m    950\u001b[0m         \u001b[1;32mreturn\u001b[0m \u001b[0mlist\u001b[0m\u001b[1;33m(\u001b[0m\u001b[0m_load_from_socket\u001b[0m\u001b[1;33m(\u001b[0m\u001b[0msock_info\u001b[0m\u001b[1;33m,\u001b[0m \u001b[0mself\u001b[0m\u001b[1;33m.\u001b[0m\u001b[0m_jrdd_deserializer\u001b[0m\u001b[1;33m)\u001b[0m\u001b[1;33m)\u001b[0m\u001b[1;33m\u001b[0m\u001b[1;33m\u001b[0m\u001b[0m\n\u001b[0;32m    951\u001b[0m \u001b[1;33m\u001b[0m\u001b[0m\n",
      "\u001b[1;32mC:\\Program Files\\spark-3.1.2-bin-hadoop2.7\\python\\lib\\py4j-0.10.9-src.zip\\py4j\\java_gateway.py\u001b[0m in \u001b[0;36m__call__\u001b[1;34m(self, *args)\u001b[0m\n\u001b[0;32m   1302\u001b[0m \u001b[1;33m\u001b[0m\u001b[0m\n\u001b[0;32m   1303\u001b[0m         \u001b[0manswer\u001b[0m \u001b[1;33m=\u001b[0m \u001b[0mself\u001b[0m\u001b[1;33m.\u001b[0m\u001b[0mgateway_client\u001b[0m\u001b[1;33m.\u001b[0m\u001b[0msend_command\u001b[0m\u001b[1;33m(\u001b[0m\u001b[0mcommand\u001b[0m\u001b[1;33m)\u001b[0m\u001b[1;33m\u001b[0m\u001b[1;33m\u001b[0m\u001b[0m\n\u001b[1;32m-> 1304\u001b[1;33m         return_value = get_return_value(\n\u001b[0m\u001b[0;32m   1305\u001b[0m             answer, self.gateway_client, self.target_id, self.name)\n\u001b[0;32m   1306\u001b[0m \u001b[1;33m\u001b[0m\u001b[0m\n",
      "\u001b[1;32mC:\\Program Files\\spark-3.1.2-bin-hadoop2.7\\python\\pyspark\\sql\\utils.py\u001b[0m in \u001b[0;36mdeco\u001b[1;34m(*a, **kw)\u001b[0m\n\u001b[0;32m    109\u001b[0m     \u001b[1;32mdef\u001b[0m \u001b[0mdeco\u001b[0m\u001b[1;33m(\u001b[0m\u001b[1;33m*\u001b[0m\u001b[0ma\u001b[0m\u001b[1;33m,\u001b[0m \u001b[1;33m**\u001b[0m\u001b[0mkw\u001b[0m\u001b[1;33m)\u001b[0m\u001b[1;33m:\u001b[0m\u001b[1;33m\u001b[0m\u001b[1;33m\u001b[0m\u001b[0m\n\u001b[0;32m    110\u001b[0m         \u001b[1;32mtry\u001b[0m\u001b[1;33m:\u001b[0m\u001b[1;33m\u001b[0m\u001b[1;33m\u001b[0m\u001b[0m\n\u001b[1;32m--> 111\u001b[1;33m             \u001b[1;32mreturn\u001b[0m \u001b[0mf\u001b[0m\u001b[1;33m(\u001b[0m\u001b[1;33m*\u001b[0m\u001b[0ma\u001b[0m\u001b[1;33m,\u001b[0m \u001b[1;33m**\u001b[0m\u001b[0mkw\u001b[0m\u001b[1;33m)\u001b[0m\u001b[1;33m\u001b[0m\u001b[1;33m\u001b[0m\u001b[0m\n\u001b[0m\u001b[0;32m    112\u001b[0m         \u001b[1;32mexcept\u001b[0m \u001b[0mpy4j\u001b[0m\u001b[1;33m.\u001b[0m\u001b[0mprotocol\u001b[0m\u001b[1;33m.\u001b[0m\u001b[0mPy4JJavaError\u001b[0m \u001b[1;32mas\u001b[0m \u001b[0me\u001b[0m\u001b[1;33m:\u001b[0m\u001b[1;33m\u001b[0m\u001b[1;33m\u001b[0m\u001b[0m\n\u001b[0;32m    113\u001b[0m             \u001b[0mconverted\u001b[0m \u001b[1;33m=\u001b[0m \u001b[0mconvert_exception\u001b[0m\u001b[1;33m(\u001b[0m\u001b[0me\u001b[0m\u001b[1;33m.\u001b[0m\u001b[0mjava_exception\u001b[0m\u001b[1;33m)\u001b[0m\u001b[1;33m\u001b[0m\u001b[1;33m\u001b[0m\u001b[0m\n",
      "\u001b[1;32mC:\\Program Files\\spark-3.1.2-bin-hadoop2.7\\python\\lib\\py4j-0.10.9-src.zip\\py4j\\protocol.py\u001b[0m in \u001b[0;36mget_return_value\u001b[1;34m(answer, gateway_client, target_id, name)\u001b[0m\n\u001b[0;32m    324\u001b[0m             \u001b[0mvalue\u001b[0m \u001b[1;33m=\u001b[0m \u001b[0mOUTPUT_CONVERTER\u001b[0m\u001b[1;33m[\u001b[0m\u001b[0mtype\u001b[0m\u001b[1;33m]\u001b[0m\u001b[1;33m(\u001b[0m\u001b[0manswer\u001b[0m\u001b[1;33m[\u001b[0m\u001b[1;36m2\u001b[0m\u001b[1;33m:\u001b[0m\u001b[1;33m]\u001b[0m\u001b[1;33m,\u001b[0m \u001b[0mgateway_client\u001b[0m\u001b[1;33m)\u001b[0m\u001b[1;33m\u001b[0m\u001b[1;33m\u001b[0m\u001b[0m\n\u001b[0;32m    325\u001b[0m             \u001b[1;32mif\u001b[0m \u001b[0manswer\u001b[0m\u001b[1;33m[\u001b[0m\u001b[1;36m1\u001b[0m\u001b[1;33m]\u001b[0m \u001b[1;33m==\u001b[0m \u001b[0mREFERENCE_TYPE\u001b[0m\u001b[1;33m:\u001b[0m\u001b[1;33m\u001b[0m\u001b[1;33m\u001b[0m\u001b[0m\n\u001b[1;32m--> 326\u001b[1;33m                 raise Py4JJavaError(\n\u001b[0m\u001b[0;32m    327\u001b[0m                     \u001b[1;34m\"An error occurred while calling {0}{1}{2}.\\n\"\u001b[0m\u001b[1;33m.\u001b[0m\u001b[1;33m\u001b[0m\u001b[1;33m\u001b[0m\u001b[0m\n\u001b[0;32m    328\u001b[0m                     format(target_id, \".\", name), value)\n",
      "\u001b[1;31mPy4JJavaError\u001b[0m: An error occurred while calling z:org.apache.spark.api.python.PythonRDD.collectAndServe.\n: org.apache.spark.SparkException: Job aborted due to stage failure: Task 152 in stage 388.0 failed 1 times, most recent failure: Lost task 152.0 in stage 388.0 (TID 4463) (LAPTOP-1UBS8G8S executor driver): org.apache.spark.SparkException: Python worker failed to connect back.\r\n\tat org.apache.spark.api.python.PythonWorkerFactory.createSimpleWorker(PythonWorkerFactory.scala:182)\r\n\tat org.apache.spark.api.python.PythonWorkerFactory.create(PythonWorkerFactory.scala:107)\r\n\tat org.apache.spark.SparkEnv.createPythonWorker(SparkEnv.scala:119)\r\n\tat org.apache.spark.api.python.BasePythonRunner.compute(PythonRunner.scala:145)\r\n\tat org.apache.spark.api.python.PythonRDD.compute(PythonRDD.scala:65)\r\n\tat org.apache.spark.rdd.RDD.computeOrReadCheckpoint(RDD.scala:373)\r\n\tat org.apache.spark.rdd.RDD.iterator(RDD.scala:337)\r\n\tat org.apache.spark.scheduler.ResultTask.runTask(ResultTask.scala:90)\r\n\tat org.apache.spark.scheduler.Task.run(Task.scala:131)\r\n\tat org.apache.spark.executor.Executor$TaskRunner.$anonfun$run$3(Executor.scala:497)\r\n\tat org.apache.spark.util.Utils$.tryWithSafeFinally(Utils.scala:1439)\r\n\tat org.apache.spark.executor.Executor$TaskRunner.run(Executor.scala:500)\r\n\tat java.util.concurrent.ThreadPoolExecutor.runWorker(Unknown Source)\r\n\tat java.util.concurrent.ThreadPoolExecutor$Worker.run(Unknown Source)\r\n\tat java.lang.Thread.run(Unknown Source)\r\nCaused by: java.lang.NegativeArraySizeException\r\n\tat org.apache.spark.security.SocketAuthHelper.readUtf8(SocketAuthHelper.scala:104)\r\n\tat org.apache.spark.security.SocketAuthHelper.authClient(SocketAuthHelper.scala:57)\r\n\tat org.apache.spark.api.python.PythonWorkerFactory.createSimpleWorker(PythonWorkerFactory.scala:175)\r\n\t... 14 more\r\n\nDriver stacktrace:\r\n\tat org.apache.spark.scheduler.DAGScheduler.failJobAndIndependentStages(DAGScheduler.scala:2258)\r\n\tat org.apache.spark.scheduler.DAGScheduler.$anonfun$abortStage$2(DAGScheduler.scala:2207)\r\n\tat org.apache.spark.scheduler.DAGScheduler.$anonfun$abortStage$2$adapted(DAGScheduler.scala:2206)\r\n\tat scala.collection.mutable.ResizableArray.foreach(ResizableArray.scala:62)\r\n\tat scala.collection.mutable.ResizableArray.foreach$(ResizableArray.scala:55)\r\n\tat scala.collection.mutable.ArrayBuffer.foreach(ArrayBuffer.scala:49)\r\n\tat org.apache.spark.scheduler.DAGScheduler.abortStage(DAGScheduler.scala:2206)\r\n\tat org.apache.spark.scheduler.DAGScheduler.$anonfun$handleTaskSetFailed$1(DAGScheduler.scala:1079)\r\n\tat org.apache.spark.scheduler.DAGScheduler.$anonfun$handleTaskSetFailed$1$adapted(DAGScheduler.scala:1079)\r\n\tat scala.Option.foreach(Option.scala:407)\r\n\tat org.apache.spark.scheduler.DAGScheduler.handleTaskSetFailed(DAGScheduler.scala:1079)\r\n\tat org.apache.spark.scheduler.DAGSchedulerEventProcessLoop.doOnReceive(DAGScheduler.scala:2445)\r\n\tat org.apache.spark.scheduler.DAGSchedulerEventProcessLoop.onReceive(DAGScheduler.scala:2387)\r\n\tat org.apache.spark.scheduler.DAGSchedulerEventProcessLoop.onReceive(DAGScheduler.scala:2376)\r\n\tat org.apache.spark.util.EventLoop$$anon$1.run(EventLoop.scala:49)\r\n\tat org.apache.spark.scheduler.DAGScheduler.runJob(DAGScheduler.scala:868)\r\n\tat org.apache.spark.SparkContext.runJob(SparkContext.scala:2196)\r\n\tat org.apache.spark.SparkContext.runJob(SparkContext.scala:2217)\r\n\tat org.apache.spark.SparkContext.runJob(SparkContext.scala:2236)\r\n\tat org.apache.spark.SparkContext.runJob(SparkContext.scala:2261)\r\n\tat org.apache.spark.rdd.RDD.$anonfun$collect$1(RDD.scala:1030)\r\n\tat org.apache.spark.rdd.RDDOperationScope$.withScope(RDDOperationScope.scala:151)\r\n\tat org.apache.spark.rdd.RDDOperationScope$.withScope(RDDOperationScope.scala:112)\r\n\tat org.apache.spark.rdd.RDD.withScope(RDD.scala:414)\r\n\tat org.apache.spark.rdd.RDD.collect(RDD.scala:1029)\r\n\tat org.apache.spark.api.python.PythonRDD$.collectAndServe(PythonRDD.scala:180)\r\n\tat org.apache.spark.api.python.PythonRDD.collectAndServe(PythonRDD.scala)\r\n\tat sun.reflect.NativeMethodAccessorImpl.invoke0(Native Method)\r\n\tat sun.reflect.NativeMethodAccessorImpl.invoke(Unknown Source)\r\n\tat sun.reflect.DelegatingMethodAccessorImpl.invoke(Unknown Source)\r\n\tat java.lang.reflect.Method.invoke(Unknown Source)\r\n\tat py4j.reflection.MethodInvoker.invoke(MethodInvoker.java:244)\r\n\tat py4j.reflection.ReflectionEngine.invoke(ReflectionEngine.java:357)\r\n\tat py4j.Gateway.invoke(Gateway.java:282)\r\n\tat py4j.commands.AbstractCommand.invokeMethod(AbstractCommand.java:132)\r\n\tat py4j.commands.CallCommand.execute(CallCommand.java:79)\r\n\tat py4j.GatewayConnection.run(GatewayConnection.java:238)\r\n\tat java.lang.Thread.run(Unknown Source)\r\nCaused by: org.apache.spark.SparkException: Python worker failed to connect back.\r\n\tat org.apache.spark.api.python.PythonWorkerFactory.createSimpleWorker(PythonWorkerFactory.scala:182)\r\n\tat org.apache.spark.api.python.PythonWorkerFactory.create(PythonWorkerFactory.scala:107)\r\n\tat org.apache.spark.SparkEnv.createPythonWorker(SparkEnv.scala:119)\r\n\tat org.apache.spark.api.python.BasePythonRunner.compute(PythonRunner.scala:145)\r\n\tat org.apache.spark.api.python.PythonRDD.compute(PythonRDD.scala:65)\r\n\tat org.apache.spark.rdd.RDD.computeOrReadCheckpoint(RDD.scala:373)\r\n\tat org.apache.spark.rdd.RDD.iterator(RDD.scala:337)\r\n\tat org.apache.spark.scheduler.ResultTask.runTask(ResultTask.scala:90)\r\n\tat org.apache.spark.scheduler.Task.run(Task.scala:131)\r\n\tat org.apache.spark.executor.Executor$TaskRunner.$anonfun$run$3(Executor.scala:497)\r\n\tat org.apache.spark.util.Utils$.tryWithSafeFinally(Utils.scala:1439)\r\n\tat org.apache.spark.executor.Executor$TaskRunner.run(Executor.scala:500)\r\n\tat java.util.concurrent.ThreadPoolExecutor.runWorker(Unknown Source)\r\n\tat java.util.concurrent.ThreadPoolExecutor$Worker.run(Unknown Source)\r\n\t... 1 more\r\nCaused by: java.lang.NegativeArraySizeException\r\n\tat org.apache.spark.security.SocketAuthHelper.readUtf8(SocketAuthHelper.scala:104)\r\n\tat org.apache.spark.security.SocketAuthHelper.authClient(SocketAuthHelper.scala:57)\r\n\tat org.apache.spark.api.python.PythonWorkerFactory.createSimpleWorker(PythonWorkerFactory.scala:175)\r\n\t... 14 more\r\n"
     ]
    }
   ],
   "source": [
    "#Now this is the time to literally consume the fill_missing_with_mode\n",
    "cat_col_list=['gender','enrolled_university', 'education_level', 'major_discipline']\n",
    "HR_test= fill_missing_with_mode(HR_test, cat_col_list)"
   ]
  },
  {
   "cell_type": "code",
   "execution_count": 72,
   "metadata": {},
   "outputs": [],
   "source": [
    "#Fill missing values for mean\n",
    "from pyspark.sql.functions import when, lit\n",
    "\n",
    "def fill_missing_with_mean(HR_test, numeric_cols):\n",
    "    col_with_mean = mean_of_pyspark_columns(HR_test, numeric_cols) \n",
    "    \n",
    "    for col, mean in col_with_mean:\n",
    "        HR_test = HR_test.withColumn(col, when(HR_test[col].isNull()==True, \n",
    "        lit(mean)).otherwise(HR_test[col]))\n",
    "        \n",
    "    return HR_test"
   ]
  },
  {
   "cell_type": "code",
   "execution_count": 73,
   "metadata": {},
   "outputs": [],
   "source": [
    "#Now this is the time to literally consume the fill_missing_with_mean\n",
    "\n",
    "numeric_cols=['experience']     \n",
    "HR_test = fill_missing_with_mean(HR_test, numeric_cols)"
   ]
  },
  {
   "cell_type": "code",
   "execution_count": null,
   "metadata": {},
   "outputs": [],
   "source": []
  },
  {
   "cell_type": "code",
   "execution_count": null,
   "metadata": {},
   "outputs": [],
   "source": [
    "HR_test = HR_test.withColumn('experience', regexp_replace('experience', '>', '').cast('float'))\n",
    "HR_test = HR_test.withColumn('experience', regexp_replace('experience', '<', '').cast('float'))"
   ]
  },
  {
   "cell_type": "code",
   "execution_count": null,
   "metadata": {},
   "outputs": [],
   "source": []
  },
  {
   "cell_type": "code",
   "execution_count": null,
   "metadata": {},
   "outputs": [],
   "source": []
  },
  {
   "cell_type": "code",
   "execution_count": null,
   "metadata": {},
   "outputs": [],
   "source": []
  }
 ],
 "metadata": {
  "kernelspec": {
   "display_name": "Python 3",
   "language": "python",
   "name": "python3"
  },
  "language_info": {
   "codemirror_mode": {
    "name": "ipython",
    "version": 3
   },
   "file_extension": ".py",
   "mimetype": "text/x-python",
   "name": "python",
   "nbconvert_exporter": "python",
   "pygments_lexer": "ipython3",
   "version": "3.8.5"
  }
 },
 "nbformat": 4,
 "nbformat_minor": 4
}
